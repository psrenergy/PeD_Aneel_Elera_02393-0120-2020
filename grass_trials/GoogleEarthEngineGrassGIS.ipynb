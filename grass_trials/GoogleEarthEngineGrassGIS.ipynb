{
  "cells": [
    {
      "cell_type": "markdown",
      "metadata": {
        "colab_type": "text",
        "id": "view-in-github"
      },
      "source": [
        "<a href=\"https://colab.research.google.com/github/cwhite911/GoogleEarthEngineGrassGIS_Demo/blob/master/GoogleEarthEngineGrassGIS.ipynb\" target=\"_parent\"><img src=\"https://colab.research.google.com/assets/colab-badge.svg\" alt=\"Open In Colab\"/></a>"
      ]
    },
    {
      "cell_type": "markdown",
      "metadata": {
        "colab_type": "text",
        "id": "uTm63pEzWpgy"
      },
      "source": [
        "# Google Earth Engine Demo\n",
        "https://developers.google.com/earth-engine/machine-learning"
      ]
    },
    {
      "cell_type": "code",
      "execution_count": 1,
      "metadata": {
        "colab": {
          "base_uri": "https://localhost:8080/",
          "height": 615
        },
        "colab_type": "code",
        "id": "G7ssegQ7YnQQ",
        "outputId": "7504b303-c5d7-4bd0-d7fe-6f963fc51e46"
      },
      "outputs": [
        {
          "name": "stdout",
          "output_type": "stream",
          "text": [
            "Requirement already satisfied: earthengine-api in c:\\users\\rodrigobenoliel\\appdata\\local\\programs\\python\\python39\\lib\\site-packages (0.1.293)\n",
            "Requirement already satisfied: future in c:\\users\\rodrigobenoliel\\appdata\\local\\programs\\python\\python39\\lib\\site-packages (from earthengine-api) (0.18.2)\n",
            "Requirement already satisfied: google-cloud-storage in c:\\users\\rodrigobenoliel\\appdata\\local\\programs\\python\\python39\\lib\\site-packages (from earthengine-api) (1.44.0)\n",
            "Requirement already satisfied: google-api-python-client<2,>=1.12.1 in c:\\users\\rodrigobenoliel\\appdata\\local\\programs\\python\\python39\\lib\\site-packages (from earthengine-api) (1.12.8)\n",
            "Requirement already satisfied: google-auth>=1.4.1 in c:\\users\\rodrigobenoliel\\appdata\\local\\programs\\python\\python39\\lib\\site-packages (from earthengine-api) (1.35.0)\n",
            "Requirement already satisfied: google-auth-httplib2>=0.0.3 in c:\\users\\rodrigobenoliel\\appdata\\local\\programs\\python\\python39\\lib\\site-packages (from earthengine-api) (0.1.0)\n",
            "Requirement already satisfied: httplib2<1dev,>=0.9.2 in c:\\users\\rodrigobenoliel\\appdata\\local\\programs\\python\\python39\\lib\\site-packages (from earthengine-api) (0.20.2)\n",
            "Requirement already satisfied: httplib2shim in c:\\users\\rodrigobenoliel\\appdata\\local\\programs\\python\\python39\\lib\\site-packages (from earthengine-api) (0.0.3)\n",
            "Requirement already satisfied: six in c:\\users\\rodrigobenoliel\\appdata\\local\\programs\\python\\python39\\lib\\site-packages (from earthengine-api) (1.16.0)\n",
            "Requirement already satisfied: google-api-core<2dev,>=1.21.0 in c:\\users\\rodrigobenoliel\\appdata\\local\\programs\\python\\python39\\lib\\site-packages (from google-api-python-client<2,>=1.12.1->earthengine-api) (1.31.5)\n",
            "Requirement already satisfied: uritemplate<4dev,>=3.0.0 in c:\\users\\rodrigobenoliel\\appdata\\local\\programs\\python\\python39\\lib\\site-packages (from google-api-python-client<2,>=1.12.1->earthengine-api) (3.0.1)\n",
            "Requirement already satisfied: cachetools<5.0,>=2.0.0 in c:\\users\\rodrigobenoliel\\appdata\\local\\programs\\python\\python39\\lib\\site-packages (from google-auth>=1.4.1->earthengine-api) (4.2.4)\n",
            "Requirement already satisfied: pyasn1-modules>=0.2.1 in c:\\users\\rodrigobenoliel\\appdata\\local\\programs\\python\\python39\\lib\\site-packages (from google-auth>=1.4.1->earthengine-api) (0.2.8)\n",
            "Requirement already satisfied: setuptools>=40.3.0 in c:\\users\\rodrigobenoliel\\appdata\\local\\programs\\python\\python39\\lib\\site-packages (from google-auth>=1.4.1->earthengine-api) (58.1.0)\n",
            "Requirement already satisfied: rsa<5,>=3.1.4 in c:\\users\\rodrigobenoliel\\appdata\\local\\programs\\python\\python39\\lib\\site-packages (from google-auth>=1.4.1->earthengine-api) (4.8)\n",
            "Requirement already satisfied: pyparsing!=3.0.0,!=3.0.1,!=3.0.2,!=3.0.3,<4,>=2.4.2 in c:\\users\\rodrigobenoliel\\appdata\\local\\programs\\python\\python39\\lib\\site-packages (from httplib2<1dev,>=0.9.2->earthengine-api) (3.0.6)\n",
            "Requirement already satisfied: google-cloud-core<3.0dev,>=1.6.0 in c:\\users\\rodrigobenoliel\\appdata\\local\\programs\\python\\python39\\lib\\site-packages (from google-cloud-storage->earthengine-api) (2.2.1)\n",
            "Requirement already satisfied: google-resumable-media<3.0dev,>=1.3.0 in c:\\users\\rodrigobenoliel\\appdata\\local\\programs\\python\\python39\\lib\\site-packages (from google-cloud-storage->earthengine-api) (2.1.0)\n",
            "Requirement already satisfied: protobuf in c:\\users\\rodrigobenoliel\\appdata\\local\\programs\\python\\python39\\lib\\site-packages (from google-cloud-storage->earthengine-api) (3.19.1)\n",
            "Requirement already satisfied: requests<3.0.0dev,>=2.18.0 in c:\\users\\rodrigobenoliel\\appdata\\local\\programs\\python\\python39\\lib\\site-packages (from google-cloud-storage->earthengine-api) (2.27.1)\n",
            "Requirement already satisfied: urllib3 in c:\\users\\rodrigobenoliel\\appdata\\local\\programs\\python\\python39\\lib\\site-packages (from httplib2shim->earthengine-api) (1.26.7)\n",
            "Requirement already satisfied: certifi in c:\\users\\rodrigobenoliel\\appdata\\local\\programs\\python\\python39\\lib\\site-packages (from httplib2shim->earthengine-api) (2021.10.8)\n",
            "Requirement already satisfied: packaging>=14.3 in c:\\users\\rodrigobenoliel\\appdata\\local\\programs\\python\\python39\\lib\\site-packages (from google-api-core<2dev,>=1.21.0->google-api-python-client<2,>=1.12.1->earthengine-api) (21.3)\n",
            "Requirement already satisfied: googleapis-common-protos<2.0dev,>=1.6.0 in c:\\users\\rodrigobenoliel\\appdata\\local\\programs\\python\\python39\\lib\\site-packages (from google-api-core<2dev,>=1.21.0->google-api-python-client<2,>=1.12.1->earthengine-api) (1.54.0)\n",
            "Requirement already satisfied: pytz in c:\\users\\rodrigobenoliel\\appdata\\local\\programs\\python\\python39\\lib\\site-packages (from google-api-core<2dev,>=1.21.0->google-api-python-client<2,>=1.12.1->earthengine-api) (2021.3)\n",
            "Requirement already satisfied: google-crc32c<2.0dev,>=1.0 in c:\\users\\rodrigobenoliel\\appdata\\local\\programs\\python\\python39\\lib\\site-packages (from google-resumable-media<3.0dev,>=1.3.0->google-cloud-storage->earthengine-api) (1.3.0)\n",
            "Requirement already satisfied: pyasn1<0.5.0,>=0.4.6 in c:\\users\\rodrigobenoliel\\appdata\\local\\programs\\python\\python39\\lib\\site-packages (from pyasn1-modules>=0.2.1->google-auth>=1.4.1->earthengine-api) (0.4.8)\n",
            "Requirement already satisfied: idna<4,>=2.5 in c:\\users\\rodrigobenoliel\\appdata\\local\\programs\\python\\python39\\lib\\site-packages (from requests<3.0.0dev,>=2.18.0->google-cloud-storage->earthengine-api) (3.3)\n",
            "Requirement already satisfied: charset-normalizer~=2.0.0 in c:\\users\\rodrigobenoliel\\appdata\\local\\programs\\python\\python39\\lib\\site-packages (from requests<3.0.0dev,>=2.18.0->google-cloud-storage->earthengine-api) (2.0.10)\n"
          ]
        }
      ],
      "source": [
        "#install google earth engine\n",
        "!pip install earthengine-api\n"
      ]
    },
    {
      "cell_type": "code",
      "execution_count": 2,
      "metadata": {
        "colab": {
          "base_uri": "https://localhost:8080/",
          "height": 173
        },
        "colab_type": "code",
        "id": "ER-50A5FYNJ9",
        "outputId": "3128a094-3b39-441c-9396-5a0b8301532a"
      },
      "outputs": [
        {
          "data": {
            "text/html": [
              "<p>To authorize access needed by Earth Engine, open the following\n",
              "        URL in a web browser and follow the instructions:</p>\n",
              "        <p><a href=https://accounts.google.com/o/oauth2/auth?client_id=517222506229-vsmmajv00ul0bs7p89v5m89qs8eb9359.apps.googleusercontent.com&scope=https%3A%2F%2Fwww.googleapis.com%2Fauth%2Fearthengine+https%3A%2F%2Fwww.googleapis.com%2Fauth%2Fdevstorage.full_control&redirect_uri=urn%3Aietf%3Awg%3Aoauth%3A2.0%3Aoob&response_type=code&code_challenge=sPUDH6pYNkerhvopFpH60wAr2hTE_5KgEPIX_V8pBTU&code_challenge_method=S256>https://accounts.google.com/o/oauth2/auth?client_id=517222506229-vsmmajv00ul0bs7p89v5m89qs8eb9359.apps.googleusercontent.com&scope=https%3A%2F%2Fwww.googleapis.com%2Fauth%2Fearthengine+https%3A%2F%2Fwww.googleapis.com%2Fauth%2Fdevstorage.full_control&redirect_uri=urn%3Aietf%3Awg%3Aoauth%3A2.0%3Aoob&response_type=code&code_challenge=sPUDH6pYNkerhvopFpH60wAr2hTE_5KgEPIX_V8pBTU&code_challenge_method=S256</a></p>\n",
              "        <p>The authorization workflow will generate a code, which you\n",
              "        should paste in the box below</p>\n",
              "        "
            ],
            "text/plain": [
              "<IPython.core.display.HTML object>"
            ]
          },
          "metadata": {},
          "output_type": "display_data"
        },
        {
          "name": "stdout",
          "output_type": "stream",
          "text": [
            "\n",
            "Successfully saved authorization token.\n"
          ]
        }
      ],
      "source": [
        "# Import the Earth Engine library.\n",
        "import ee\n",
        "\n",
        "# Trigger the authentication flow.\n",
        "ee.Authenticate()"
      ]
    },
    {
      "cell_type": "markdown",
      "metadata": {
        "colab_type": "text",
        "id": "MjP3AESIW8Bu"
      },
      "source": [
        "## Calculate elevation of Mt. Everest"
      ]
    },
    {
      "cell_type": "code",
      "execution_count": 3,
      "metadata": {
        "colab": {
          "base_uri": "https://localhost:8080/",
          "height": 34
        },
        "colab_type": "code",
        "id": "JI9uwacRYj2e",
        "outputId": "a06fd4ce-ddca-47a1-edf0-dade434d8dcd"
      },
      "outputs": [
        {
          "name": "stdout",
          "output_type": "stream",
          "text": [
            "Mount Everest elevation (m): 8729\n"
          ]
        }
      ],
      "source": [
        "# Initialize the library.\n",
        "ee.Initialize()\n",
        "\n",
        "# Print the elevation of Mount Everest.\n",
        "dem = ee.Image('USGS/SRTMGL1_003')\n",
        "xy = ee.Geometry.Point([86.9250, 27.9881])\n",
        "elev = dem.sample(xy, 30).first().get('elevation').getInfo()\n",
        "print('Mount Everest elevation (m):', elev)"
      ]
    },
    {
      "cell_type": "markdown",
      "metadata": {
        "colab_type": "text",
        "id": "C1aIhGclXQ-x"
      },
      "source": [
        "## Display Image from Google Earth Engine"
      ]
    },
    {
      "cell_type": "code",
      "execution_count": 4,
      "metadata": {
        "colab": {
          "base_uri": "https://localhost:8080/",
          "height": 186
        },
        "colab_type": "code",
        "id": "hhF6IlozYaFm",
        "outputId": "153ded64-430d-426d-d32f-11ba50b04472"
      },
      "outputs": [
        {
          "ename": "EEException",
          "evalue": "Pixel grid dimensions (1296001x417601) must be less than or equal to 10000.",
          "output_type": "error",
          "traceback": [
            "\u001b[1;31m---------------------------------------------------------------------------\u001b[0m",
            "\u001b[1;31mHttpError\u001b[0m                                 Traceback (most recent call last)",
            "\u001b[1;32mc:\\Users\\rodrigobenoliel\\AppData\\Local\\Programs\\Python\\Python39\\lib\\site-packages\\ee\\data.py\u001b[0m in \u001b[0;36m_execute_cloud_call\u001b[1;34m(call, num_retries)\u001b[0m\n\u001b[0;32m    333\u001b[0m   \u001b[1;32mtry\u001b[0m\u001b[1;33m:\u001b[0m\u001b[1;33m\u001b[0m\u001b[1;33m\u001b[0m\u001b[0m\n\u001b[1;32m--> 334\u001b[1;33m     \u001b[1;32mreturn\u001b[0m \u001b[0mcall\u001b[0m\u001b[1;33m.\u001b[0m\u001b[0mexecute\u001b[0m\u001b[1;33m(\u001b[0m\u001b[0mnum_retries\u001b[0m\u001b[1;33m=\u001b[0m\u001b[0mnum_retries\u001b[0m\u001b[1;33m)\u001b[0m\u001b[1;33m\u001b[0m\u001b[1;33m\u001b[0m\u001b[0m\n\u001b[0m\u001b[0;32m    335\u001b[0m   \u001b[1;32mexcept\u001b[0m \u001b[0mgoogleapiclient\u001b[0m\u001b[1;33m.\u001b[0m\u001b[0merrors\u001b[0m\u001b[1;33m.\u001b[0m\u001b[0mHttpError\u001b[0m \u001b[1;32mas\u001b[0m \u001b[0me\u001b[0m\u001b[1;33m:\u001b[0m\u001b[1;33m\u001b[0m\u001b[1;33m\u001b[0m\u001b[0m\n",
            "\u001b[1;32mc:\\Users\\rodrigobenoliel\\AppData\\Local\\Programs\\Python\\Python39\\lib\\site-packages\\googleapiclient\\_helpers.py\u001b[0m in \u001b[0;36mpositional_wrapper\u001b[1;34m(*args, **kwargs)\u001b[0m\n\u001b[0;32m    133\u001b[0m                     \u001b[0mlogger\u001b[0m\u001b[1;33m.\u001b[0m\u001b[0mwarning\u001b[0m\u001b[1;33m(\u001b[0m\u001b[0mmessage\u001b[0m\u001b[1;33m)\u001b[0m\u001b[1;33m\u001b[0m\u001b[1;33m\u001b[0m\u001b[0m\n\u001b[1;32m--> 134\u001b[1;33m             \u001b[1;32mreturn\u001b[0m \u001b[0mwrapped\u001b[0m\u001b[1;33m(\u001b[0m\u001b[1;33m*\u001b[0m\u001b[0margs\u001b[0m\u001b[1;33m,\u001b[0m \u001b[1;33m**\u001b[0m\u001b[0mkwargs\u001b[0m\u001b[1;33m)\u001b[0m\u001b[1;33m\u001b[0m\u001b[1;33m\u001b[0m\u001b[0m\n\u001b[0m\u001b[0;32m    135\u001b[0m \u001b[1;33m\u001b[0m\u001b[0m\n",
            "\u001b[1;32mc:\\Users\\rodrigobenoliel\\AppData\\Local\\Programs\\Python\\Python39\\lib\\site-packages\\googleapiclient\\http.py\u001b[0m in \u001b[0;36mexecute\u001b[1;34m(self, http, num_retries)\u001b[0m\n\u001b[0;32m    914\u001b[0m         \u001b[1;32mif\u001b[0m \u001b[0mresp\u001b[0m\u001b[1;33m.\u001b[0m\u001b[0mstatus\u001b[0m \u001b[1;33m>=\u001b[0m \u001b[1;36m300\u001b[0m\u001b[1;33m:\u001b[0m\u001b[1;33m\u001b[0m\u001b[1;33m\u001b[0m\u001b[0m\n\u001b[1;32m--> 915\u001b[1;33m             \u001b[1;32mraise\u001b[0m \u001b[0mHttpError\u001b[0m\u001b[1;33m(\u001b[0m\u001b[0mresp\u001b[0m\u001b[1;33m,\u001b[0m \u001b[0mcontent\u001b[0m\u001b[1;33m,\u001b[0m \u001b[0muri\u001b[0m\u001b[1;33m=\u001b[0m\u001b[0mself\u001b[0m\u001b[1;33m.\u001b[0m\u001b[0muri\u001b[0m\u001b[1;33m)\u001b[0m\u001b[1;33m\u001b[0m\u001b[1;33m\u001b[0m\u001b[0m\n\u001b[0m\u001b[0;32m    916\u001b[0m         \u001b[1;32mreturn\u001b[0m \u001b[0mself\u001b[0m\u001b[1;33m.\u001b[0m\u001b[0mpostproc\u001b[0m\u001b[1;33m(\u001b[0m\u001b[0mresp\u001b[0m\u001b[1;33m,\u001b[0m \u001b[0mcontent\u001b[0m\u001b[1;33m)\u001b[0m\u001b[1;33m\u001b[0m\u001b[1;33m\u001b[0m\u001b[0m\n",
            "\u001b[1;31mHttpError\u001b[0m: <HttpError 400 when requesting https://earthengine.googleapis.com/v1alpha/projects/earthengine-legacy/thumbnails?fields=name&alt=json returned \"Pixel grid dimensions (1296001x417601) must be less than or equal to 10000.\". Details: \"Pixel grid dimensions (1296001x417601) must be less than or equal to 10000.\">",
            "\nDuring handling of the above exception, another exception occurred:\n",
            "\u001b[1;31mEEException\u001b[0m                               Traceback (most recent call last)",
            "\u001b[1;32mC:\\Users\\RODRIG~1\\AppData\\Local\\Temp/ipykernel_46084/1372967465.py\u001b[0m in \u001b[0;36m<module>\u001b[1;34m\u001b[0m\n\u001b[0;32m      7\u001b[0m \u001b[1;33m\u001b[0m\u001b[0m\n\u001b[0;32m      8\u001b[0m \u001b[1;31m# Display a thumbnail of a sample image asset.\u001b[0m\u001b[1;33m\u001b[0m\u001b[1;33m\u001b[0m\u001b[0m\n\u001b[1;32m----> 9\u001b[1;33m \u001b[0mImage\u001b[0m\u001b[1;33m(\u001b[0m\u001b[0murl\u001b[0m\u001b[1;33m=\u001b[0m\u001b[0mee\u001b[0m\u001b[1;33m.\u001b[0m\u001b[0mImage\u001b[0m\u001b[1;33m(\u001b[0m\u001b[1;34m'USGS/SRTMGL1_003'\u001b[0m\u001b[1;33m)\u001b[0m\u001b[1;33m.\u001b[0m\u001b[0mgetThumbUrl\u001b[0m\u001b[1;33m(\u001b[0m\u001b[1;33m{\u001b[0m\u001b[1;34m'min'\u001b[0m\u001b[1;33m:\u001b[0m \u001b[1;36m0\u001b[0m\u001b[1;33m,\u001b[0m \u001b[1;34m'max'\u001b[0m\u001b[1;33m:\u001b[0m \u001b[1;36m3000\u001b[0m\u001b[1;33m}\u001b[0m\u001b[1;33m)\u001b[0m\u001b[1;33m)\u001b[0m\u001b[1;33m\u001b[0m\u001b[1;33m\u001b[0m\u001b[0m\n\u001b[0m",
            "\u001b[1;32mc:\\Users\\rodrigobenoliel\\AppData\\Local\\Programs\\Python\\Python39\\lib\\site-packages\\ee\\deprecation.py\u001b[0m in \u001b[0;36mWrapper\u001b[1;34m(*args, **kwargs)\u001b[0m\n\u001b[0;32m     30\u001b[0m           \u001b[0mfilename\u001b[0m\u001b[1;33m=\u001b[0m\u001b[0mfunc\u001b[0m\u001b[1;33m.\u001b[0m\u001b[0m__code__\u001b[0m\u001b[1;33m.\u001b[0m\u001b[0mco_filename\u001b[0m\u001b[1;33m,\u001b[0m\u001b[1;33m\u001b[0m\u001b[1;33m\u001b[0m\u001b[0m\n\u001b[0;32m     31\u001b[0m           lineno=func.__code__.co_firstlineno + 1)\n\u001b[1;32m---> 32\u001b[1;33m       \u001b[1;32mreturn\u001b[0m \u001b[0mfunc\u001b[0m\u001b[1;33m(\u001b[0m\u001b[1;33m*\u001b[0m\u001b[0margs\u001b[0m\u001b[1;33m,\u001b[0m \u001b[1;33m**\u001b[0m\u001b[0mkwargs\u001b[0m\u001b[1;33m)\u001b[0m\u001b[1;33m\u001b[0m\u001b[1;33m\u001b[0m\u001b[0m\n\u001b[0m\u001b[0;32m     33\u001b[0m     \u001b[0mdeprecation_message\u001b[0m \u001b[1;33m=\u001b[0m \u001b[1;34m'\\nDEPRECATED: '\u001b[0m \u001b[1;33m+\u001b[0m \u001b[0mmessage\u001b[0m\u001b[1;33m\u001b[0m\u001b[1;33m\u001b[0m\u001b[0m\n\u001b[0;32m     34\u001b[0m     \u001b[1;32mtry\u001b[0m\u001b[1;33m:\u001b[0m\u001b[1;33m\u001b[0m\u001b[1;33m\u001b[0m\u001b[0m\n",
            "\u001b[1;32mc:\\Users\\rodrigobenoliel\\AppData\\Local\\Programs\\Python\\Python39\\lib\\site-packages\\ee\\image.py\u001b[0m in \u001b[0;36mgetThumbURL\u001b[1;34m(self, params)\u001b[0m\n\u001b[0;32m    518\u001b[0m     \u001b[1;31m# If it isn't enabled, we have to be bug-for-bug compatible with current\u001b[0m\u001b[1;33m\u001b[0m\u001b[1;33m\u001b[0m\u001b[0m\n\u001b[0;32m    519\u001b[0m     \u001b[1;31m# behaviour.\u001b[0m\u001b[1;33m\u001b[0m\u001b[1;33m\u001b[0m\u001b[0m\n\u001b[1;32m--> 520\u001b[1;33m     \u001b[1;32mreturn\u001b[0m \u001b[0mdata\u001b[0m\u001b[1;33m.\u001b[0m\u001b[0mmakeThumbUrl\u001b[0m\u001b[1;33m(\u001b[0m\u001b[0mself\u001b[0m\u001b[1;33m.\u001b[0m\u001b[0mgetThumbId\u001b[0m\u001b[1;33m(\u001b[0m\u001b[0mparams\u001b[0m\u001b[1;33m)\u001b[0m\u001b[1;33m)\u001b[0m\u001b[1;33m\u001b[0m\u001b[1;33m\u001b[0m\u001b[0m\n\u001b[0m\u001b[0;32m    521\u001b[0m \u001b[1;33m\u001b[0m\u001b[0m\n\u001b[0;32m    522\u001b[0m   \u001b[1;31m# Deprecated spellings to match the JS library.\u001b[0m\u001b[1;33m\u001b[0m\u001b[1;33m\u001b[0m\u001b[0m\n",
            "\u001b[1;32mc:\\Users\\rodrigobenoliel\\AppData\\Local\\Programs\\Python\\Python39\\lib\\site-packages\\ee\\image.py\u001b[0m in \u001b[0;36mgetThumbId\u001b[1;34m(self, params)\u001b[0m\n\u001b[0;32m    491\u001b[0m     \u001b[0mimage\u001b[0m\u001b[1;33m,\u001b[0m \u001b[0mparams\u001b[0m \u001b[1;33m=\u001b[0m \u001b[0mimage\u001b[0m\u001b[1;33m.\u001b[0m\u001b[0m_apply_visualization\u001b[0m\u001b[1;33m(\u001b[0m\u001b[0mparams\u001b[0m\u001b[1;33m)\u001b[0m  \u001b[1;31m# pylint: disable=protected-access\u001b[0m\u001b[1;33m\u001b[0m\u001b[1;33m\u001b[0m\u001b[0m\n\u001b[0;32m    492\u001b[0m     \u001b[0mparams\u001b[0m\u001b[1;33m[\u001b[0m\u001b[1;34m'image'\u001b[0m\u001b[1;33m]\u001b[0m \u001b[1;33m=\u001b[0m \u001b[0mimage\u001b[0m\u001b[1;33m\u001b[0m\u001b[1;33m\u001b[0m\u001b[0m\n\u001b[1;32m--> 493\u001b[1;33m     \u001b[1;32mreturn\u001b[0m \u001b[0mdata\u001b[0m\u001b[1;33m.\u001b[0m\u001b[0mgetThumbId\u001b[0m\u001b[1;33m(\u001b[0m\u001b[0mparams\u001b[0m\u001b[1;33m)\u001b[0m\u001b[1;33m\u001b[0m\u001b[1;33m\u001b[0m\u001b[0m\n\u001b[0m\u001b[0;32m    494\u001b[0m \u001b[1;33m\u001b[0m\u001b[0m\n\u001b[0;32m    495\u001b[0m   \u001b[1;32mdef\u001b[0m \u001b[0mgetThumbURL\u001b[0m\u001b[1;33m(\u001b[0m\u001b[0mself\u001b[0m\u001b[1;33m,\u001b[0m \u001b[0mparams\u001b[0m\u001b[1;33m=\u001b[0m\u001b[1;32mNone\u001b[0m\u001b[1;33m)\u001b[0m\u001b[1;33m:\u001b[0m\u001b[1;33m\u001b[0m\u001b[1;33m\u001b[0m\u001b[0m\n",
            "\u001b[1;32mc:\\Users\\rodrigobenoliel\\AppData\\Local\\Programs\\Python\\Python39\\lib\\site-packages\\ee\\data.py\u001b[0m in \u001b[0;36mgetThumbId\u001b[1;34m(params, thumbType)\u001b[0m\n\u001b[0;32m    782\u001b[0m     request['bandIds'] = _cloud_api_utils.convert_to_band_list(\n\u001b[0;32m    783\u001b[0m         params.get('bands'))\n\u001b[1;32m--> 784\u001b[1;33m     result = _execute_cloud_call(\n\u001b[0m\u001b[0;32m    785\u001b[0m         _get_cloud_api_resource().projects().thumbnails().create(\n\u001b[0;32m    786\u001b[0m             parent=_get_projects_path(), fields='name', body=request))\n",
            "\u001b[1;32mc:\\Users\\rodrigobenoliel\\AppData\\Local\\Programs\\Python\\Python39\\lib\\site-packages\\ee\\data.py\u001b[0m in \u001b[0;36m_execute_cloud_call\u001b[1;34m(call, num_retries)\u001b[0m\n\u001b[0;32m    334\u001b[0m     \u001b[1;32mreturn\u001b[0m \u001b[0mcall\u001b[0m\u001b[1;33m.\u001b[0m\u001b[0mexecute\u001b[0m\u001b[1;33m(\u001b[0m\u001b[0mnum_retries\u001b[0m\u001b[1;33m=\u001b[0m\u001b[0mnum_retries\u001b[0m\u001b[1;33m)\u001b[0m\u001b[1;33m\u001b[0m\u001b[1;33m\u001b[0m\u001b[0m\n\u001b[0;32m    335\u001b[0m   \u001b[1;32mexcept\u001b[0m \u001b[0mgoogleapiclient\u001b[0m\u001b[1;33m.\u001b[0m\u001b[0merrors\u001b[0m\u001b[1;33m.\u001b[0m\u001b[0mHttpError\u001b[0m \u001b[1;32mas\u001b[0m \u001b[0me\u001b[0m\u001b[1;33m:\u001b[0m\u001b[1;33m\u001b[0m\u001b[1;33m\u001b[0m\u001b[0m\n\u001b[1;32m--> 336\u001b[1;33m     \u001b[1;32mraise\u001b[0m \u001b[0m_translate_cloud_exception\u001b[0m\u001b[1;33m(\u001b[0m\u001b[0me\u001b[0m\u001b[1;33m)\u001b[0m\u001b[1;33m\u001b[0m\u001b[1;33m\u001b[0m\u001b[0m\n\u001b[0m\u001b[0;32m    337\u001b[0m \u001b[1;33m\u001b[0m\u001b[0m\n\u001b[0;32m    338\u001b[0m \u001b[1;33m\u001b[0m\u001b[0m\n",
            "\u001b[1;31mEEException\u001b[0m: Pixel grid dimensions (1296001x417601) must be less than or equal to 10000."
          ]
        }
      ],
      "source": [
        "# Import libraries.\n",
        "import ee\n",
        "from IPython.display import Image\n",
        "\n",
        "# Initialize the Earth Engine library.\n",
        "ee.Initialize()\n",
        "\n",
        "# Display a thumbnail of a sample image asset.\n",
        "Image(url=ee.Image('USGS/SRTMGL1_003').getThumbUrl({'min': 0, 'max': 3000}))"
      ]
    },
    {
      "cell_type": "markdown",
      "metadata": {
        "colab_type": "text",
        "id": "I98msNwXXXAb"
      },
      "source": [
        "## Create Web Map from Google Earth Engine"
      ]
    },
    {
      "cell_type": "code",
      "execution_count": null,
      "metadata": {
        "colab": {
          "base_uri": "https://localhost:8080/",
          "height": 889
        },
        "colab_type": "code",
        "id": "BJhDc41kYQw5",
        "outputId": "c5519429-268f-44f0-a511-a79cadfbe185"
      },
      "outputs": [
        {
          "data": {
            "text/html": [
              "<div style=\"width:100%;\"><div style=\"position:relative;width:100%;height:0;padding-bottom:60%;\"><iframe src=\"data:text/html;charset=utf-8;base64,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\" style=\"position:absolute;width:100%;height:100%;left:0;top:0;border:none !important;\" allowfullscreen webkitallowfullscreen mozallowfullscreen></iframe></div></div>"
            ],
            "text/plain": [
              "<folium.folium.Map at 0x7f3bdcc70860>"
            ]
          },
          "metadata": {
            "tags": []
          },
          "output_type": "display_data"
        }
      ],
      "source": [
        "# Import libraries.\n",
        "import ee\n",
        "import folium\n",
        "\n",
        "# Initialize the Earth Engine library.\n",
        "ee.Initialize()\n",
        "\n",
        "# Define a method for displaying Earth Engine image tiles to folium map.\n",
        "def add_ee_layer(self, eeImageObject, visParams, name):\n",
        "  mapID = ee.Image(eeImageObject).getMapId(visParams)\n",
        "  folium.raster_layers.TileLayer(\n",
        "    tiles = \"https://earthengine.googleapis.com/map/\"+mapID['mapid']+\n",
        "      \"/{z}/{x}/{y}?token=\"+mapID['token'],\n",
        "    attr = \"Map Data © Google Earth Engine\",\n",
        "    name = name,\n",
        "    overlay = True,\n",
        "    control = True\n",
        "  ).add_to(self)\n",
        "\n",
        "# Add EE drawing method to folium.\n",
        "folium.Map.add_ee_layer = add_ee_layer\n",
        "\n",
        "# Fetch an elevation model.\n",
        "dem = ee.Image('USGS/SRTMGL1_003')\n",
        "\n",
        "# Set visualization parameters.\n",
        "visParams = {'min':0, 'max':3000, 'palette':['225ea8','41b6c4','a1dab4','ffffcc']}\n",
        "\n",
        "# Create a folium map object.\n",
        "myMap = folium.Map(location=[20, 0], zoom_start=3, height=500)\n",
        "\n",
        "# Add the elevation model to the map object.\n",
        "myMap.add_ee_layer(dem, visParams, 'DEM')\n",
        "\n",
        "# Add a layer control panel to the map.\n",
        "myMap.add_child(folium.LayerControl())\n",
        "\n",
        "# Display the map.\n",
        "display(myMap)"
      ]
    },
    {
      "cell_type": "markdown",
      "metadata": {
        "colab_type": "text",
        "id": "_9coaqSIBYf6"
      },
      "source": []
    },
    {
      "cell_type": "markdown",
      "metadata": {
        "colab_type": "text",
        "id": "Qsie-XK1XfoM"
      },
      "source": [
        "## Plot Data from Google Earth Engine"
      ]
    },
    {
      "cell_type": "code",
      "execution_count": 5,
      "metadata": {
        "colab": {
          "base_uri": "https://localhost:8080/",
          "height": 282
        },
        "colab_type": "code",
        "id": "kibIwEWvX7SW",
        "outputId": "f3afe69c-1fd4-4bca-fdc3-4c4408bb49c2"
      },
      "outputs": [
        {
          "data": {
            "image/png": "[encoded data removed]",
            "text/plain": [
              "<Figure size 432x288 with 1 Axes>"
            ]
          },
          "metadata": {
            "needs_background": "light"
          },
          "output_type": "display_data"
        }
      ],
      "source": [
        "# Import libraries.\n",
        "import ee\n",
        "import matplotlib.pyplot as plt\n",
        "\n",
        "# Initialize the Earth Engine module.\n",
        "ee.Initialize()\n",
        "\n",
        "# Fetch a Landsat image.\n",
        "img = ee.Image('LANDSAT/LT05/C01/T1_SR/LT05_034033_20000913')\n",
        "\n",
        "# Select Red and NIR bands, scale them, and sample 500 points.\n",
        "sampFC = img.select(['B3','B4']).divide(10000).sample(scale=30, numPixels=500)\n",
        "\n",
        "# Arrange the sample as a list of lists.\n",
        "sampDict = sampFC.reduceColumns(ee.Reducer.toList().repeat(2), ['B3', 'B4'])\n",
        "sampList = ee.List(sampDict.get('list'))\n",
        "\n",
        "# Save server-side ee.List as a client-side Python list.\n",
        "sampData = sampList.getInfo()\n",
        "\n",
        "# Display a scatter plot of Red-NIR sample pairs using matplotlib.\n",
        "plt.scatter(sampData[0], sampData[1], alpha=0.2)\n",
        "plt.xlabel('Red', fontsize=12)\n",
        "plt.ylabel('NIR', fontsize=12)\n",
        "plt.show()"
      ]
    },
    {
      "cell_type": "markdown",
      "metadata": {
        "colab_type": "text",
        "id": "qRQ2L5X1XlkF"
      },
      "source": [
        "# Install GRASS GIS"
      ]
    },
    {
      "cell_type": "code",
      "execution_count": 2,
      "metadata": {
        "colab": {
          "base_uri": "https://localhost:8080/",
          "height": 1000
        },
        "colab_type": "code",
        "id": "vxtHPX7fYRYH",
        "outputId": "c6360d52-4eb5-4268-b02f-c0d26811035d"
      },
      "outputs": [
        {
          "name": "stderr",
          "output_type": "stream",
          "text": [
            "'add-apt-repository' is not recognized as an internal or external command,\n",
            "operable program or batch file.\n",
            "'apt-get' is not recognized as an internal or external command,\n",
            "operable program or batch file.\n",
            "'apt-get' is not recognized as an internal or external command,\n",
            "operable program or batch file.\n"
          ]
        }
      ],
      "source": [
        "#https://launchpad.net/~ubuntugis/+archive/ubuntu/ubuntugis-unstable\n",
        "!add-apt-repository ppa:ubuntugis/ubuntugis-unstable\n",
        "\n",
        "#update packages\n",
        "!apt-get update\n",
        "\n",
        "#install grass\n",
        "!apt-get install grass -y"
      ]
    },
    {
      "cell_type": "markdown",
      "metadata": {
        "colab_type": "text",
        "id": "WwnJ91LJYIxQ"
      },
      "source": [
        "## Prepare GRASS for use in Jupyter Notebook\n",
        "Source: https://grasswiki.osgeo.org/wiki/GRASS_GIS_Jupyter_notebooks"
      ]
    },
    {
      "cell_type": "code",
      "execution_count": 1,
      "metadata": {
        "colab": {
          "base_uri": "https://localhost:8080/",
          "height": 119
        },
        "colab_type": "code",
        "id": "0KLgbeESBtMz",
        "outputId": "a14c819c-ad9a-4847-ab7c-5abdcc3f98f8"
      },
      "outputs": [
        {
          "name": "stderr",
          "output_type": "stream",
          "text": [
            "'export' is not recognized as an internal or external command,\n",
            "operable program or batch file.\n"
          ]
        },
        {
          "name": "stdout",
          "output_type": "stream",
          "text": [
            "$GISBASE\n"
          ]
        },
        {
          "name": "stderr",
          "output_type": "stream",
          "text": [
            "The syntax of the command is incorrect.\n",
            "'MYGISDBASE' is not recognized as an internal or external command,\n",
            "operable program or batch file.\n",
            "'MYLOC' is not recognized as an internal or external command,\n",
            "operable program or batch file.\n",
            "'MYMAPSET' is not recognized as an internal or external command,\n",
            "operable program or batch file.\n",
            "'MYGISRC' is not recognized as an internal or external command,\n",
            "operable program or batch file.\n",
            "'export' is not recognized as an internal or external command,\n",
            "operable program or batch file.\n",
            "'export' is not recognized as an internal or external command,\n",
            "operable program or batch file.\n",
            "'export' is not recognized as an internal or external command,\n",
            "operable program or batch file.\n",
            "'export' is not recognized as an internal or external command,\n",
            "operable program or batch file.\n"
          ]
        }
      ],
      "source": [
        "#directory where GRASS GIS lives\n",
        "#!find / -name grass*\n",
        "!export GISBASE=`/usr/lib/grass78 --config path`   # or define path to binaries like /usr/local/grass-7.4.svn\n",
        "!echo $GISBASE\n",
        "\n",
        "# generate GISRC\n",
        "# Defines the system wide value while in a GRASS session\n",
        "!mkdir $HOME/grassdata\n",
        "!MYGISDBASE=$HOME/grassdata # Change this path to reflect your own \n",
        "!MYLOC=GEE # Change this location name to reflect your own \n",
        "!MYMAPSET=PERMANENT\n",
        "\n",
        "# Set the global grassrc file to individual file name\n",
        "!MYGISRC=\"$HOME/.grassrc.$$\"\n",
        "\n",
        "!echo \"GISDBASE: $MYGISDBASE\" > \"$MYGISRC\"\n",
        "!echo \"LOCATION_NAME: $MYLOC\" >> \"$MYGISRC\"\n",
        "!echo \"MAPSET: $MYMAPSET\" >> \"$MYGISRC\"\n",
        "!echo \"GRASS_GUI: text\" >> \"$MYGISRC\"\n",
        "\n",
        "# path to GRASS settings file\n",
        "!export GISRC=$MYGISRC\n",
        "\n",
        "!export LD_LIBRARY_PATH=$GISBASE/lib:$LD_LIBRARY_PATH\n",
        "!export PYTHONPATH=$GISBASE/etc/python:$PYTHONPATH\n",
        "!export PATH=$GISBASE/bin:$GISBASE/scripts:$PATH"
      ]
    },
    {
      "cell_type": "markdown",
      "metadata": {
        "colab_type": "text",
        "id": "jdUdpzbYYijD"
      },
      "source": [
        "## Download Sample GRASS Data"
      ]
    },
    {
      "cell_type": "code",
      "execution_count": 7,
      "metadata": {
        "colab": {
          "base_uri": "https://localhost:8080/",
          "height": 1000
        },
        "colab_type": "code",
        "id": "V9SbkeieGUsQ",
        "outputId": "266d8348-730b-40a6-812e-1e351bba430c"
      },
      "outputs": [
        {
          "name": "stderr",
          "output_type": "stream",
          "text": [
            "'wget' is not recognized as an internal or external command,\n",
            "operable program or batch file.\n",
            "tar: Error opening archive: Failed to open 'nc_spm_08_grass7.tar.gz'\n",
            "'mv' is not recognized as an internal or external command,\n",
            "operable program or batch file.\n",
            "'chown' is not recognized as an internal or external command,\n",
            "operable program or batch file.\n"
          ]
        }
      ],
      "source": [
        "#Download Sample Data\n",
        "!wget /$HOME/grassdata/ \"https://grass.osgeo.org/sampledata/north_carolina/nc_spm_08_grass7.tar.gz\"\n",
        "!tar xvzf nc_spm_08_grass7.tar.gz\n",
        "!mv /content/nc_spm_08_grass7 /root/grassdata/\n",
        "!chown -R root:root /root/grassdata/nc_spm_08_grass7/ #TODO: Read up on how colab is handling users becasue I'm guessing I shouldn't need to change owner to root. This data should probably also live in /content/grassdata"
      ]
    },
    {
      "cell_type": "markdown",
      "metadata": {
        "colab_type": "text",
        "id": "CFKb2Es9UQUf"
      },
      "source": [
        "## Configure Python to Run GRASS\n",
        "Credited to  https://github.com/wenzeslaus/try-grass-in-jupyter"
      ]
    },
    {
      "cell_type": "code",
      "execution_count": null,
      "metadata": {
        "colab": {},
        "colab_type": "code",
        "id": "7pBVfyMTEer3"
      },
      "outputs": [],
      "source": [
        "# import Python standard library and IPython packages we need\n",
        "import os\n",
        "import sys\n",
        "import subprocess\n",
        "from IPython.display import Image\n",
        "\n",
        "# ask GRASS GIS where its Python packages are\n",
        "gisbase= \"/usr/lib/grass78\"\n",
        "# gisbase = subprocess.check_output([\"grass78\", \"--config\", \"path\"]).strip()\n",
        "# print(gisbase)\n",
        "os.environ['GISBASE'] = gisbase\n",
        "\n",
        "sys.path.append(os.path.join(\"/usr/lib/grass78\", \"etc\", \"python\"))\n",
        "\n",
        "# import GRASS GIS packages we need\n",
        "import grass.script as gs\n",
        "import grass.script.setup as gsetup\n",
        "\n",
        "# create GRASS GIS session\n",
        "rcfile = gsetup.init(gisbase, \"/root/grassdata\", \"nc_spm_08_grass7\", \"user1\")\n",
        "\n",
        "# we want functions to raise exceptions and see standard output of the modules\n",
        "gs.set_raise_on_error(True)\n",
        "gs.set_capture_stderr(True)\n",
        "# simply overwrite existing maps like we overwrite Python variable values\n",
        "os.environ['GRASS_OVERWRITE'] = '1'\n",
        "# enable map rendering to in Jupyter Notebook\n",
        "os.environ['GRASS_FONT'] = 'sans'\n",
        "# set display modules to render into a file (named map.png by default)\n",
        "os.environ['GRASS_RENDER_IMMEDIATE'] = 'cairo'\n",
        "os.environ['GRASS_RENDER_FILE_READ'] = 'TRUE'\n",
        "os.environ['GRASS_LEGEND_FILE'] = 'legend.txt'\n"
      ]
    },
    {
      "cell_type": "code",
      "execution_count": null,
      "metadata": {
        "colab": {},
        "colab_type": "code",
        "id": "EzBq7yLiQkWP"
      },
      "outputs": [],
      "source": []
    },
    {
      "cell_type": "markdown",
      "metadata": {
        "colab_type": "text",
        "id": "0B8jIYSSNmtF"
      },
      "source": [
        "### Raster buffer\n",
        "Set computational region and create multiple buffers in given distances around lakes represented as raster:"
      ]
    },
    {
      "cell_type": "code",
      "execution_count": 11,
      "metadata": {
        "colab": {
          "base_uri": "https://localhost:8080/",
          "height": 497
        },
        "colab_type": "code",
        "id": "s7F_VhKtNr6c",
        "outputId": "ab77e328-7c05-49a1-ae1d-658af3eb9bab"
      },
      "outputs": [
        {
          "data": {
            "image/png": "[encoded data removed]",
            "text/plain": [
              "<IPython.core.display.Image object>"
            ]
          },
          "execution_count": 11,
          "metadata": {
            "tags": []
          },
          "output_type": "execute_result"
        }
      ],
      "source": [
        "gs.parse_command('g.region', raster=\"lakes\", flags='pg')\n",
        "gs.run_command('r.buffer', input=\"lakes\", output=\"lakes_buff\", distances=[60, 120, 240, 500])\n",
        "gs.run_command('d.erase')\n",
        "gs.run_command('d.rast', map=\"lakes_buff\")\n",
        "gs.run_command('d.legend', raster=\"lakes_buff\", range=(2, 5), at=(80, 100, 2, 10))\n",
        "Image(filename=\"map.png\")"
      ]
    },
    {
      "cell_type": "markdown",
      "metadata": {
        "colab_type": "text",
        "id": "KeIdR83gS7CE"
      },
      "source": [
        "### Vector buffer\n",
        "Create a negative buffer around state boundary represented as a vector. Vector modules typically don't follow computational region, but we set it to inform display modules about our area of interest."
      ]
    },
    {
      "cell_type": "code",
      "execution_count": 12,
      "metadata": {
        "colab": {
          "base_uri": "https://localhost:8080/",
          "height": 497
        },
        "colab_type": "code",
        "id": "3DY3tc8uL-pc",
        "outputId": "9daa38b9-44a6-4e04-edc4-2cdaa17c20f9"
      },
      "outputs": [
        {
          "data": {
            "image/png": "[encoded data removed]",
            "text/plain": [
              "<IPython.core.display.Image object>"
            ]
          },
          "execution_count": 12,
          "metadata": {
            "tags": []
          },
          "output_type": "execute_result"
        }
      ],
      "source": [
        "gs.run_command('v.buffer', input=\"boundary_county\", output=\"buffer\", distance=-10000)\n",
        "gs.parse_command('g.region', vector=\"boundary_county\", flags='pg')\n",
        "gs.run_command('d.erase')  # erase the display before drawing again\n",
        "!rm -f $GRASS_LEGEND_FILE  # and remove the legend file\n",
        "gs.run_command('d.vect', map=\"boundary_county\", fill_color=\"#5A91ED\", legend_label=\"County boundary\")\n",
        "gs.run_command('d.vect', map=\"buffer\", fill_color=\"#F8766D\", legend_label=\"Inner portion\")\n",
        "gs.run_command('d.legend.vect', at=(10, 35))\n",
        "Image(filename=\"map.png\")"
      ]
    },
    {
      "cell_type": "code",
      "execution_count": 13,
      "metadata": {
        "colab": {
          "base_uri": "https://localhost:8080/",
          "height": 374
        },
        "colab_type": "code",
        "id": "ZSzS3nbUUrKM",
        "outputId": "b120d278-30cd-4787-d2d8-5c7125ac7d50"
      },
      "outputs": [
        {
          "data": {
            "text/plain": [
              "{'': None,\n",
              " '----------------------------------------------': None,\n",
              " 'P079214                   elev_lid792_bepts         poi_names_wake': None,\n",
              " 'P079215                   elev_lid792_cont1m        precip_30ynormals': None,\n",
              " 'P079218                   elev_lid792_randpts       precip_30ynormals_3d': None,\n",
              " 'P079219                   elev_lidrural_mrpts       railroads': None,\n",
              " 'boundary_county           elev_lidrural_mrptsft     roadsmajor': None,\n",
              " 'boundary_municp           elev_ned10m_cont10m       schools_wake': None,\n",
              " 'bridges                   firestations              soils_general': None,\n",
              " 'buffer': None,\n",
              " 'busroute1                 geodetic_pts              soils_wake': None,\n",
              " 'busroute11                geodetic_swwake_pts       streams': None,\n",
              " 'busroute6                 geology                   streets_wake': None,\n",
              " 'busroute_a                geonames_NC               swwake_10m': None,\n",
              " 'busroutesall              geonames_wake             urbanarea': None,\n",
              " 'busstopsall               hospitals                 usgsgages': None,\n",
              " 'census_wake2000           lakes                     zipcodes_wake': None,\n",
              " 'censusblk_swwake          nc_state': None,\n",
              " 'comm_colleges             overpasses': None,\n",
              " 'vector files available in mapset <PERMANENT>:': None,\n",
              " 'vector files available in mapset <user1>:': None}"
            ]
          },
          "execution_count": 13,
          "metadata": {
            "tags": []
          },
          "output_type": "execute_result"
        }
      ],
      "source": [
        "gs.parse_command('g.list', type=\"vector\", flags=\"p\")\n"
      ]
    },
    {
      "cell_type": "markdown",
      "metadata": {
        "colab_type": "text",
        "id": "MQsLiiQMaTHT"
      },
      "source": [
        "# Combine Goolge Earth Eninge with GRASS"
      ]
    },
    {
      "cell_type": "code",
      "execution_count": null,
      "metadata": {
        "colab": {},
        "colab_type": "code",
        "id": "RLj26EXMgGG_"
      },
      "outputs": [],
      "source": [
        "from google.colab import auth\n",
        "\n",
        "auth.authenticate_user()"
      ]
    },
    {
      "cell_type": "markdown",
      "metadata": {
        "colab_type": "text",
        "id": "rmqG4U4AbOKr"
      },
      "source": [
        "## Export Data from Goolge Earth Engine"
      ]
    },
    {
      "cell_type": "code",
      "execution_count": 15,
      "metadata": {
        "colab": {
          "base_uri": "https://localhost:8080/",
          "height": 80
        },
        "colab_type": "code",
        "id": "N3YCnG8ybSDK",
        "outputId": "316cc2f6-ca2b-4e77-861e-6eda0312a031"
      },
      "outputs": [
        {
          "data": {
            "text/html": [
              "<p style=\"color: red;\">\n",
              "The default version of TensorFlow in Colab will soon switch to TensorFlow 2.x.<br>\n",
              "We recommend you <a href=\"https://www.tensorflow.org/guide/migrate\" target=\"_blank\">upgrade</a> now \n",
              "or ensure your notebook will continue to use TensorFlow 1.x via the <code>%tensorflow_version 1.x</code> magic:\n",
              "<a href=\"https://colab.research.google.com/notebooks/tensorflow_version.ipynb\" target=\"_blank\">more info</a>.</p>\n"
            ],
            "text/plain": [
              "<IPython.core.display.HTML object>"
            ]
          },
          "metadata": {
            "tags": []
          },
          "output_type": "display_data"
        },
        {
          "name": "stdout",
          "output_type": "stream",
          "text": [
            "1.15.0\n"
          ]
        }
      ],
      "source": [
        "# Import libraries.\n",
        "import ee\n",
        "from IPython.display import Image\n",
        "import tensorflow as tf\n",
        "\n",
        "tf.enable_eager_execution()\n",
        "print(tf.__version__)\n",
        "\n",
        "# Initialize the Earth Engine library.\n",
        "ee.Initialize()\n",
        "\n",
        "imageFilePrefix = 'grass_elev_demo_'\n",
        "outputBucket = 'gee_default'\n",
        "# # # Make sure the bucket exists.\n",
        "# print('Found Cloud Storage bucket.' if tf.gfile.Exists('gs://' + outputBucket) \n",
        "#     else 'Output Cloud Storage bucket does not exist.')\n",
        "\n",
        "# Specify patch and file dimensions.\n",
        "imageExportFormatOptions = {\n",
        "  'patchDimensions': [256, 256],\n",
        "  'maxFileSize': 104857600,\n",
        "  'compressed': True\n",
        "}\n",
        "# var dataset = \n",
        "# var elevation = dataset.select('elevation');\n",
        "# elevationVis = {\n",
        "#   min: 0.0,\n",
        "#   max: 4000.0,\n",
        "#   gamma: 1.6,\n",
        "# };\n",
        "dataset = ee.Image('USGS/NED')\n",
        "image = dataset.select(\"elevation\")\n",
        "\n",
        "# Export imagery in this region.\n",
        "exportRegion = ee.Geometry.Rectangle([-122.7, 37.3, -121.8, 38.00])\n",
        "\n",
        "# Setup the task.\n",
        "imageTask = ee.batch.Export.image.toCloudStorage(\n",
        "  image=image,\n",
        "  description='Image Export',\n",
        "  fileNamePrefix=imageFilePrefix,\n",
        "  bucket=outputBucket,\n",
        "  scale=30,\n",
        "  fileFormat='GeoTIFF',\n",
        "  region=exportRegion.toGeoJSON()['coordinates']\n",
        ")\n",
        "imageTask.start()"
      ]
    },
    {
      "cell_type": "markdown",
      "metadata": {
        "colab_type": "text",
        "id": "iYhT0G4nd8yA"
      },
      "source": [
        "### Check if export file exists"
      ]
    },
    {
      "cell_type": "code",
      "execution_count": 16,
      "metadata": {
        "colab": {
          "base_uri": "https://localhost:8080/",
          "height": 34
        },
        "colab_type": "code",
        "id": "vrJY4EhwaZE2",
        "outputId": "61ffe8cf-9298-4d8d-ec4f-e1a3a6c4d1e2"
      },
      "outputs": [
        {
          "name": "stdout",
          "output_type": "stream",
          "text": [
            "Found elevation file.\n"
          ]
        }
      ],
      "source": [
        "import tensorflow as tf\n",
        "\n",
        "fileNameSuffix = '.tif'\n",
        "elevationFilePath = 'gs://' + outputBucket + '/' + imageFilePrefix + fileNameSuffix\n",
        "\n",
        "print('Found elevation file.' if tf.gfile.Exists(elevationFilePath) \n",
        "    else 'No elevation file found.')\n"
      ]
    },
    {
      "cell_type": "markdown",
      "metadata": {
        "colab_type": "text",
        "id": "QgZwtC8TinKt"
      },
      "source": [
        "## Download Elevation Data From GCS"
      ]
    },
    {
      "cell_type": "code",
      "execution_count": 17,
      "metadata": {
        "colab": {
          "base_uri": "https://localhost:8080/",
          "height": 68
        },
        "colab_type": "code",
        "id": "-Kv61WcaimeI",
        "outputId": "473234f4-a9ea-44f8-f360-d3319d6eb3f6"
      },
      "outputs": [
        {
          "name": "stdout",
          "output_type": "stream",
          "text": [
            "Copying gs://gee_default/grass_elev_demo_.tif...\n",
            "\\ [1 files][ 25.0 MiB/ 25.0 MiB]                                                \n",
            "Operation completed over 1 objects/25.0 MiB.                                     \n"
          ]
        }
      ],
      "source": [
        "# Download the file from a given Google Cloud Storage bucket.\n",
        "!GCS_BUCKET_NAME=\"gee_default\"\n",
        "!gsutil cp gs://gee_default/grass_elev_demo_.tif /content/grass_elev_demo.tif\n"
      ]
    },
    {
      "cell_type": "markdown",
      "metadata": {
        "colab_type": "text",
        "id": "Y6uHj9xfmiwy"
      },
      "source": [
        "## Create WGS84 Location"
      ]
    },
    {
      "cell_type": "code",
      "execution_count": 18,
      "metadata": {
        "colab": {
          "base_uri": "https://localhost:8080/",
          "height": 85
        },
        "colab_type": "code",
        "id": "9QekrQmsmmsm",
        "outputId": "644d4c03-2a2b-482e-a902-e4ddec0aefb7"
      },
      "outputs": [
        {
          "name": "stdout",
          "output_type": "stream",
          "text": [
            "Starting GRASS GIS...\n",
            "Creating new GRASS GIS location <google_earth_engine_3857>...\n",
            "Cleaning up temporary files...\n",
            "Cleaning up temporary files...\n"
          ]
        }
      ],
      "source": [
        "!grass78 -c epsg:3857 /root/grassdata/google_earth_engine_3857 -e\n"
      ]
    },
    {
      "cell_type": "markdown",
      "metadata": {
        "colab_type": "text",
        "id": "gACkprZXgaTI"
      },
      "source": [
        "## Use elevation file with GRASS GIS"
      ]
    },
    {
      "cell_type": "code",
      "execution_count": null,
      "metadata": {
        "colab": {},
        "colab_type": "code",
        "id": "ylzX8xACgg4x"
      },
      "outputs": [],
      "source": [
        "# import GRASS GIS packages we need\n",
        "import grass.script as gs\n",
        "import grass.script.setup as gsetup\n",
        "\n",
        "# create GRASS GIS session\n",
        "rcfile = gsetup.init(gisbase, \"/root/grassdata\", \"google_earth_engine_3857\", \"PERMANENT\")\n",
        "\n",
        "# we want functions to raise exceptions and see standard output of the modules\n",
        "gs.set_raise_on_error(True)\n",
        "gs.set_capture_stderr(True)\n",
        "# simply overwrite existing maps like we overwrite Python variable values\n",
        "os.environ['GRASS_OVERWRITE'] = '1'\n",
        "# enable map rendering to in Jupyter Notebook\n",
        "os.environ['GRASS_FONT'] = 'sans'\n",
        "# set display modules to render into a file (named map.png by default)\n",
        "os.environ['GRASS_RENDER_IMMEDIATE'] = 'cairo'\n",
        "os.environ['GRASS_RENDER_FILE_READ'] = 'TRUE'\n",
        "os.environ['GRASS_LEGEND_FILE'] = 'legend.txt'\n",
        "\n",
        "\n"
      ]
    },
    {
      "cell_type": "markdown",
      "metadata": {
        "colab_type": "text",
        "id": "t9-Kh4AM3Fbg"
      },
      "source": [
        "Link elevation data from GEE to GRASS"
      ]
    },
    {
      "cell_type": "code",
      "execution_count": 20,
      "metadata": {
        "colab": {
          "base_uri": "https://localhost:8080/",
          "height": 34
        },
        "colab_type": "code",
        "id": "MUg1rliTgztz",
        "outputId": "c9551885-1bc0-4d04-d7bd-dcb60b3f7ca6"
      },
      "outputs": [
        {
          "data": {
            "text/plain": [
              "0"
            ]
          },
          "execution_count": 20,
          "metadata": {
            "tags": []
          },
          "output_type": "execute_result"
        }
      ],
      "source": [
        "gs.run_command('r.import', input=\"grass_elev_demo.tif\", output=\"usgs_ned1\", overwrite=True)"
      ]
    },
    {
      "cell_type": "markdown",
      "metadata": {
        "colab_type": "text",
        "id": "eimBymJS3APH"
      },
      "source": [
        "Calculate Watershed and streams\n",
        "https://grasswiki.osgeo.org/wiki/From_GRASS_GIS_novice_to_power_user_(workshop_at_FOSS4G_Boston_2017)"
      ]
    },
    {
      "cell_type": "code",
      "execution_count": 21,
      "metadata": {
        "colab": {
          "base_uri": "https://localhost:8080/",
          "height": 102
        },
        "colab_type": "code",
        "id": "V_HhnCIDmwey",
        "outputId": "57ba32ed-5241-403f-b5ac-ce7d5113d3db"
      },
      "outputs": [
        {
          "name": "stdout",
          "output_type": "stream",
          "text": [
            "----------------------------------------------\n",
            "raster files available in mapset <PERMANENT>:\n",
            "usgs_ned1\n",
            "\n",
            "\n"
          ]
        }
      ],
      "source": [
        "print(gs.read_command('g.list', type=\"raster\", flags=\"p\"))"
      ]
    },
    {
      "cell_type": "code",
      "execution_count": 22,
      "metadata": {
        "colab": {
          "base_uri": "https://localhost:8080/",
          "height": 34
        },
        "colab_type": "code",
        "id": "6_Zf_kWIgzsg",
        "outputId": "50dd0188-8d92-405f-846a-979479a63d08"
      },
      "outputs": [
        {
          "data": {
            "text/plain": [
              "0"
            ]
          },
          "execution_count": 22,
          "metadata": {
            "tags": []
          },
          "output_type": "execute_result"
        }
      ],
      "source": [
        "\n",
        "\n",
        "gs.parse_command('g.region', raster=\"usgs_ned1\", flags='pg')\n",
        "#r.watershed elevation=elevation accumulation=flowacc drainage=drainage stream=streams threshold=10?0000\n",
        "gs.run_command('r.watershed', elevation=\"usgs_ned1\", accumulation=\"flowacc\", drainage=\"drainage\", stream=\"streams\", threshold=100000, overwrite=True)\n",
        "#r.to.vect input=streams output=streams type=line\n",
        "gs.run_command('r.to.vect', input=\"streams\", output=\"streams\", type=\"line\", overwrite=True)\n"
      ]
    },
    {
      "cell_type": "markdown",
      "metadata": {
        "colab_type": "text",
        "id": "bLTPmPrc4i2K"
      },
      "source": [
        "Install SVN to download GRASS GIS extensions"
      ]
    },
    {
      "cell_type": "code",
      "execution_count": 23,
      "metadata": {
        "colab": {
          "base_uri": "https://localhost:8080/",
          "height": 782
        },
        "colab_type": "code",
        "id": "o0kr4w194fZk",
        "outputId": "54190784-5814-48c0-9cd1-58edfcfffd65"
      },
      "outputs": [
        {
          "name": "stdout",
          "output_type": "stream",
          "text": [
            "Reading package lists... Done\n",
            "Building dependency tree       \n",
            "Reading state information... Done\n",
            "The following packages were automatically installed and are no longer required:\n",
            "  libarmadillo8 libarpack2 libsuperlu5\n",
            "Use 'apt autoremove' to remove them.\n",
            "The following additional packages will be installed:\n",
            "  libapr1 libaprutil1 libserf-1-1 libsvn1\n",
            "Suggested packages:\n",
            "  db5.3-util libapache2-mod-svn subversion-tools\n",
            "The following NEW packages will be installed:\n",
            "  libapr1 libaprutil1 libserf-1-1 libsvn1 subversion\n",
            "0 upgraded, 5 newly installed, 0 to remove and 37 not upgraded.\n",
            "Need to get 2,237 kB of archives.\n",
            "After this operation, 9,910 kB of additional disk space will be used.\n",
            "Get:1 http://archive.ubuntu.com/ubuntu bionic/main amd64 libapr1 amd64 1.6.3-2 [90.9 kB]\n",
            "Get:2 http://archive.ubuntu.com/ubuntu bionic/main amd64 libaprutil1 amd64 1.6.1-2 [84.4 kB]\n",
            "Get:3 http://archive.ubuntu.com/ubuntu bionic/universe amd64 libserf-1-1 amd64 1.3.9-6 [44.4 kB]\n",
            "Get:4 http://archive.ubuntu.com/ubuntu bionic/universe amd64 libsvn1 amd64 1.9.7-4ubuntu1 [1,183 kB]\n",
            "Get:5 http://archive.ubuntu.com/ubuntu bionic/universe amd64 subversion amd64 1.9.7-4ubuntu1 [834 kB]\n",
            "Fetched 2,237 kB in 0s (6,860 kB/s)\n",
            "Selecting previously unselected package libapr1:amd64.\n",
            "(Reading database ... 142210 files and directories currently installed.)\n",
            "Preparing to unpack .../libapr1_1.6.3-2_amd64.deb ...\n",
            "Unpacking libapr1:amd64 (1.6.3-2) ...\n",
            "Selecting previously unselected package libaprutil1:amd64.\n",
            "Preparing to unpack .../libaprutil1_1.6.1-2_amd64.deb ...\n",
            "Unpacking libaprutil1:amd64 (1.6.1-2) ...\n",
            "Selecting previously unselected package libserf-1-1:amd64.\n",
            "Preparing to unpack .../libserf-1-1_1.3.9-6_amd64.deb ...\n",
            "Unpacking libserf-1-1:amd64 (1.3.9-6) ...\n",
            "Selecting previously unselected package libsvn1:amd64.\n",
            "Preparing to unpack .../libsvn1_1.9.7-4ubuntu1_amd64.deb ...\n",
            "Unpacking libsvn1:amd64 (1.9.7-4ubuntu1) ...\n",
            "Selecting previously unselected package subversion.\n",
            "Preparing to unpack .../subversion_1.9.7-4ubuntu1_amd64.deb ...\n",
            "Unpacking subversion (1.9.7-4ubuntu1) ...\n",
            "Setting up libapr1:amd64 (1.6.3-2) ...\n",
            "Processing triggers for libc-bin (2.27-3ubuntu1) ...\n",
            "Setting up libaprutil1:amd64 (1.6.1-2) ...\n",
            "Processing triggers for man-db (2.8.3-2ubuntu0.1) ...\n",
            "Setting up libserf-1-1:amd64 (1.3.9-6) ...\n",
            "Setting up libsvn1:amd64 (1.9.7-4ubuntu1) ...\n",
            "Setting up subversion (1.9.7-4ubuntu1) ...\n",
            "Processing triggers for libc-bin (2.27-3ubuntu1) ...\n"
          ]
        }
      ],
      "source": [
        "!apt-get install subversion\n"
      ]
    },
    {
      "cell_type": "markdown",
      "metadata": {
        "colab_type": "text",
        "id": "gNDNK_1v5ruT"
      },
      "source": [
        "Install grass-dev to install GRASS extensions in linux\n",
        "https://grass.osgeo.org/grass72/manuals/g.extension.html#error:-please-install-grass-development-package"
      ]
    },
    {
      "cell_type": "code",
      "execution_count": 24,
      "metadata": {
        "colab": {
          "base_uri": "https://localhost:8080/",
          "height": 1000
        },
        "colab_type": "code",
        "id": "ukVeplQM5Sl4",
        "outputId": "a9432d56-8f5e-4030-bb1f-9d17ccf82945"
      },
      "outputs": [
        {
          "name": "stdout",
          "output_type": "stream",
          "text": [
            "Reading package lists... Done\n",
            "Building dependency tree       \n",
            "Reading state information... Done\n",
            "The following packages were automatically installed and are no longer required:\n",
            "  libgeos-3.6.2 libproj12\n",
            "Use 'apt autoremove' to remove them.\n",
            "The following additional packages will be installed:\n",
            "  default-libmysqlclient-dev fakeroot libarmadillo-dev libarpack2-dev\n",
            "  libblas-dev libblas3 libcharls-dev libdap-dev libdapserver7v5 libepsilon-dev\n",
            "  libfakeroot libfreexl-dev libfyba-dev libgdal-dev libgeos-3.7.1 libgeos-c1v5\n",
            "  libgeos-dev libgeotiff-dev libgeotiff2 libgif-dev libhdf4-alt-dev\n",
            "  libjson-c-dev libkml-dev libkmlconvenience1 libkmlregionator1 libkmlxsd1\n",
            "  libminizip-dev libmysqlclient-dev libnetcdf-dev libogdi-dev libopenjp2-7-dev\n",
            "  libpoppler-dev libpoppler-private-dev libpq-dev libproj-dev libqhull-dev\n",
            "  libqhull-r7 libspatialite-dev libspatialite7 libsqlite3-dev libsuperlu-dev\n",
            "  liburiparser-dev libwebp-dev libxerces-c-dev libzstd-dev libzstd1\n",
            "  unixodbc-dev\n",
            "Suggested packages:\n",
            "  grass-dev-doc libitpp-dev liblapack-doc libgdal-doc libgeotiff-epsg\n",
            "  geotiff-bin netcdf-bin netcdf-doc postgresql-doc-10 sqlite3-doc\n",
            "  libsuperlu-doc libxerces-c-doc\n",
            "The following NEW packages will be installed:\n",
            "  default-libmysqlclient-dev fakeroot grass-dev libarmadillo-dev\n",
            "  libarpack2-dev libblas-dev libblas3 libcharls-dev libdap-dev libdapserver7v5\n",
            "  libepsilon-dev libfakeroot libfreexl-dev libfyba-dev libgdal-dev\n",
            "  libgeos-3.7.1 libgeos-dev libgeotiff-dev libgif-dev libhdf4-alt-dev\n",
            "  libjson-c-dev libkml-dev libkmlconvenience1 libkmlregionator1 libkmlxsd1\n",
            "  libminizip-dev libmysqlclient-dev libnetcdf-dev libogdi-dev libopenjp2-7-dev\n",
            "  libpoppler-dev libpoppler-private-dev libpq-dev libproj-dev libqhull-dev\n",
            "  libqhull-r7 libspatialite-dev libsqlite3-dev libsuperlu-dev liburiparser-dev\n",
            "  libwebp-dev libxerces-c-dev libzstd-dev unixodbc-dev\n",
            "The following packages will be upgraded:\n",
            "  libgeos-c1v5 libgeotiff2 libspatialite7 libzstd1\n",
            "4 upgraded, 44 newly installed, 0 to remove and 33 not upgraded.\n",
            "Need to get 20.3 MB of archives.\n",
            "After this operation, 121 MB of additional disk space will be used.\n",
            "Get:1 http://archive.ubuntu.com/ubuntu bionic-updates/main amd64 libzstd1 amd64 1.3.3+dfsg-2ubuntu1.1 [189 kB]\n",
            "Get:2 http://ppa.launchpad.net/ubuntugis/ubuntugis-unstable/ubuntu bionic/main amd64 libgeos-3.7.1 amd64 3.7.1-1~bionic0 [485 kB]\n",
            "Get:3 http://archive.ubuntu.com/ubuntu bionic-updates/main amd64 libmysqlclient-dev amd64 5.7.27-0ubuntu0.18.04.1 [1,160 kB]\n",
            "Get:4 http://archive.ubuntu.com/ubuntu bionic/main amd64 default-libmysqlclient-dev amd64 1.0.4 [3,736 B]\n",
            "Get:5 http://archive.ubuntu.com/ubuntu bionic/main amd64 libfakeroot amd64 1.22-2ubuntu1 [25.9 kB]\n",
            "Get:6 http://archive.ubuntu.com/ubuntu bionic/main amd64 fakeroot amd64 1.22-2ubuntu1 [62.3 kB]\n",
            "Get:7 http://archive.ubuntu.com/ubuntu bionic/main amd64 libblas3 amd64 3.7.1-4ubuntu1 [140 kB]\n",
            "Get:8 http://archive.ubuntu.com/ubuntu bionic/main amd64 libblas-dev amd64 3.7.1-4ubuntu1 [143 kB]\n",
            "Get:9 http://archive.ubuntu.com/ubuntu bionic/universe amd64 libarpack2-dev amd64 3.5.0+real-2 [97.3 kB]\n",
            "Get:10 http://archive.ubuntu.com/ubuntu bionic/universe amd64 libsuperlu-dev amd64 5.2.1+dfsg1-3 [16.3 kB]\n",
            "Get:11 http://ppa.launchpad.net/ubuntugis/ubuntugis-unstable/ubuntu bionic/main amd64 libgeos-c1v5 amd64 3.7.1-1~bionic0 [64.4 kB]\n",
            "Get:12 http://archive.ubuntu.com/ubuntu bionic/universe amd64 libarmadillo-dev amd64 1:8.400.0+dfsg-2 [340 kB]\n",
            "Get:13 http://ppa.launchpad.net/ubuntugis/ubuntugis-unstable/ubuntu bionic/main amd64 libgeos-dev amd64 3.7.1-1~bionic0 [83.0 kB]\n",
            "Get:14 http://archive.ubuntu.com/ubuntu bionic/universe amd64 libcharls-dev amd64 1.1.0+dfsg-2 [20.4 kB]\n",
            "Get:15 http://archive.ubuntu.com/ubuntu bionic/universe amd64 libdapserver7v5 amd64 3.19.1-2build1 [22.2 kB]\n",
            "Get:16 http://archive.ubuntu.com/ubuntu bionic/universe amd64 libdap-dev amd64 3.19.1-2build1 [710 kB]\n",
            "Get:17 http://archive.ubuntu.com/ubuntu bionic/universe amd64 libepsilon-dev amd64 0.9.2+dfsg-2 [49.3 kB]\n",
            "Get:18 http://ppa.launchpad.net/ubuntugis/ubuntugis-unstable/ubuntu bionic/main amd64 libgeotiff2 amd64 1.4.2-2build1+bionic0 [73.7 kB]\n",
            "Get:19 http://archive.ubuntu.com/ubuntu bionic/universe amd64 libfreexl-dev amd64 1.0.5-1 [30.9 kB]\n",
            "Get:20 http://ppa.launchpad.net/ubuntugis/ubuntugis-unstable/ubuntu bionic/main amd64 libgeotiff-dev amd64 1.4.2-2build1+bionic0 [102 kB]\n",
            "Get:21 http://archive.ubuntu.com/ubuntu bionic/universe amd64 libfyba-dev amd64 4.1.1-3 [436 kB]\n",
            "Get:22 http://archive.ubuntu.com/ubuntu bionic-updates/main amd64 libgif-dev amd64 5.1.4-2ubuntu0.1 [20.6 kB]\n",
            "Get:23 http://ppa.launchpad.net/ubuntugis/ubuntugis-unstable/ubuntu bionic/main amd64 libogdi-dev amd64 4.1.0+ds-1~bionic0 [25.4 kB]\n",
            "Get:24 http://archive.ubuntu.com/ubuntu bionic/universe amd64 libnetcdf-dev amd64 1:4.6.0-2build1 [37.6 kB]\n",
            "Get:25 http://archive.ubuntu.com/ubuntu bionic/universe amd64 libhdf4-alt-dev amd64 4.2.13-2 [368 kB]\n",
            "Get:26 http://ppa.launchpad.net/ubuntugis/ubuntugis-unstable/ubuntu bionic/main amd64 libproj-dev amd64 5.2.0-1~bionic0 [258 kB]\n",
            "Get:27 http://archive.ubuntu.com/ubuntu bionic/main amd64 libjson-c-dev amd64 0.12.1-1.3 [31.7 kB]\n",
            "Get:28 http://archive.ubuntu.com/ubuntu bionic/universe amd64 libkmlconvenience1 amd64 1.3.0-5 [43.1 kB]\n",
            "Get:29 http://archive.ubuntu.com/ubuntu bionic/universe amd64 libkmlregionator1 amd64 1.3.0-5 [19.0 kB]\n",
            "Get:30 http://archive.ubuntu.com/ubuntu bionic/universe amd64 libkmlxsd1 amd64 1.3.0-5 [29.5 kB]\n",
            "Get:31 http://archive.ubuntu.com/ubuntu bionic/universe amd64 libminizip-dev amd64 1.1-8build1 [26.7 kB]\n",
            "Get:32 http://archive.ubuntu.com/ubuntu bionic/universe amd64 liburiparser-dev amd64 0.8.4-1 [10.0 kB]\n",
            "Get:33 http://archive.ubuntu.com/ubuntu bionic/universe amd64 libkml-dev amd64 1.3.0-5 [933 kB]\n",
            "Get:34 http://archive.ubuntu.com/ubuntu bionic-updates/universe amd64 libopenjp2-7-dev amd64 2.3.0-2build0.18.04.1 [26.6 kB]\n",
            "Get:35 http://archive.ubuntu.com/ubuntu bionic-updates/main amd64 libpoppler-dev amd64 0.62.0-2ubuntu2.10 [4,608 B]\n",
            "Get:36 http://archive.ubuntu.com/ubuntu bionic-updates/main amd64 libpoppler-private-dev amd64 0.62.0-2ubuntu2.10 [169 kB]\n",
            "Get:37 http://archive.ubuntu.com/ubuntu bionic-updates/main amd64 libpq-dev amd64 10.10-0ubuntu0.18.04.1 [218 kB]\n",
            "Get:38 http://archive.ubuntu.com/ubuntu bionic/universe amd64 libqhull-r7 amd64 2015.2-4 [149 kB]\n",
            "Get:39 http://archive.ubuntu.com/ubuntu bionic/universe amd64 libqhull-dev amd64 2015.2-4 [357 kB]\n",
            "Get:40 http://archive.ubuntu.com/ubuntu bionic-updates/main amd64 libsqlite3-dev amd64 3.22.0-1ubuntu0.1 [633 kB]\n",
            "Get:41 http://ppa.launchpad.net/ubuntugis/ubuntugis-unstable/ubuntu bionic/main amd64 libspatialite7 amd64 4.3.0a-5build1+bionic1 [1,252 kB]\n",
            "Get:42 http://archive.ubuntu.com/ubuntu bionic/main amd64 libwebp-dev amd64 0.6.1-2 [267 kB]\n",
            "Get:43 http://archive.ubuntu.com/ubuntu bionic/universe amd64 libxerces-c-dev amd64 3.2.0+debian-2 [1,627 kB]\n",
            "Get:44 http://archive.ubuntu.com/ubuntu bionic-updates/main amd64 libzstd-dev amd64 1.3.3+dfsg-2ubuntu1.1 [230 kB]\n",
            "Get:45 http://archive.ubuntu.com/ubuntu bionic/main amd64 unixodbc-dev amd64 2.3.4-1.1ubuntu3 [217 kB]\n",
            "Get:46 http://ppa.launchpad.net/ubuntugis/ubuntugis-unstable/ubuntu bionic/main amd64 libspatialite-dev amd64 4.3.0a-5build1+bionic1 [1,370 kB]\n",
            "Get:47 http://ppa.launchpad.net/ubuntugis/ubuntugis-unstable/ubuntu bionic/main amd64 libgdal-dev amd64 2.4.2+dfsg-1~bionic0 [7,493 kB]\n",
            "Get:48 http://ppa.launchpad.net/ubuntugis/ubuntugis-unstable/ubuntu bionic/main amd64 grass-dev amd64 7.8.0-1~bionic1 [210 kB]\n",
            "Fetched 20.3 MB in 6s (3,250 kB/s)\n",
            "Extracting templates from packages: 100%\n",
            "(Reading database ... 142340 files and directories currently installed.)\n",
            "Preparing to unpack .../libzstd1_1.3.3+dfsg-2ubuntu1.1_amd64.deb ...\n",
            "Unpacking libzstd1:amd64 (1.3.3+dfsg-2ubuntu1.1) over (1.3.3+dfsg-2ubuntu1) ...\n",
            "Setting up libzstd1:amd64 (1.3.3+dfsg-2ubuntu1.1) ...\n",
            "Selecting previously unselected package libmysqlclient-dev.\n",
            "(Reading database ... 142340 files and directories currently installed.)\n",
            "Preparing to unpack .../00-libmysqlclient-dev_5.7.27-0ubuntu0.18.04.1_amd64.deb ...\n",
            "Unpacking libmysqlclient-dev (5.7.27-0ubuntu0.18.04.1) ...\n",
            "Selecting previously unselected package default-libmysqlclient-dev:amd64.\n",
            "Preparing to unpack .../01-default-libmysqlclient-dev_1.0.4_amd64.deb ...\n",
            "Unpacking default-libmysqlclient-dev:amd64 (1.0.4) ...\n",
            "Selecting previously unselected package libfakeroot:amd64.\n",
            "Preparing to unpack .../02-libfakeroot_1.22-2ubuntu1_amd64.deb ...\n",
            "Unpacking libfakeroot:amd64 (1.22-2ubuntu1) ...\n",
            "Selecting previously unselected package fakeroot.\n",
            "Preparing to unpack .../03-fakeroot_1.22-2ubuntu1_amd64.deb ...\n",
            "Unpacking fakeroot (1.22-2ubuntu1) ...\n",
            "Selecting previously unselected package libblas3:amd64.\n",
            "Preparing to unpack .../04-libblas3_3.7.1-4ubuntu1_amd64.deb ...\n",
            "Unpacking libblas3:amd64 (3.7.1-4ubuntu1) ...\n",
            "Selecting previously unselected package libblas-dev:amd64.\n",
            "Preparing to unpack .../05-libblas-dev_3.7.1-4ubuntu1_amd64.deb ...\n",
            "Unpacking libblas-dev:amd64 (3.7.1-4ubuntu1) ...\n",
            "Selecting previously unselected package libarpack2-dev:amd64.\n",
            "Preparing to unpack .../06-libarpack2-dev_3.5.0+real-2_amd64.deb ...\n",
            "Unpacking libarpack2-dev:amd64 (3.5.0+real-2) ...\n",
            "Selecting previously unselected package libsuperlu-dev:amd64.\n",
            "Preparing to unpack .../07-libsuperlu-dev_5.2.1+dfsg1-3_amd64.deb ...\n",
            "Unpacking libsuperlu-dev:amd64 (5.2.1+dfsg1-3) ...\n",
            "Selecting previously unselected package libarmadillo-dev.\n",
            "Preparing to unpack .../08-libarmadillo-dev_1%3a8.400.0+dfsg-2_amd64.deb ...\n",
            "Unpacking libarmadillo-dev (1:8.400.0+dfsg-2) ...\n",
            "Selecting previously unselected package libcharls-dev:amd64.\n",
            "Preparing to unpack .../09-libcharls-dev_1.1.0+dfsg-2_amd64.deb ...\n",
            "Unpacking libcharls-dev:amd64 (1.1.0+dfsg-2) ...\n",
            "Selecting previously unselected package libdapserver7v5:amd64.\n",
            "Preparing to unpack .../10-libdapserver7v5_3.19.1-2build1_amd64.deb ...\n",
            "Unpacking libdapserver7v5:amd64 (3.19.1-2build1) ...\n",
            "Selecting previously unselected package libdap-dev:amd64.\n",
            "Preparing to unpack .../11-libdap-dev_3.19.1-2build1_amd64.deb ...\n",
            "Unpacking libdap-dev:amd64 (3.19.1-2build1) ...\n",
            "Selecting previously unselected package libepsilon-dev:amd64.\n",
            "Preparing to unpack .../12-libepsilon-dev_0.9.2+dfsg-2_amd64.deb ...\n",
            "Unpacking libepsilon-dev:amd64 (0.9.2+dfsg-2) ...\n",
            "Selecting previously unselected package libfreexl-dev:amd64.\n",
            "Preparing to unpack .../13-libfreexl-dev_1.0.5-1_amd64.deb ...\n",
            "Unpacking libfreexl-dev:amd64 (1.0.5-1) ...\n",
            "Selecting previously unselected package libfyba-dev:amd64.\n",
            "Preparing to unpack .../14-libfyba-dev_4.1.1-3_amd64.deb ...\n",
            "Unpacking libfyba-dev:amd64 (4.1.1-3) ...\n",
            "Selecting previously unselected package libgeos-3.7.1:amd64.\n",
            "Preparing to unpack .../15-libgeos-3.7.1_3.7.1-1~bionic0_amd64.deb ...\n",
            "Unpacking libgeos-3.7.1:amd64 (3.7.1-1~bionic0) ...\n",
            "Preparing to unpack .../16-libgeos-c1v5_3.7.1-1~bionic0_amd64.deb ...\n",
            "Unpacking libgeos-c1v5:amd64 (3.7.1-1~bionic0) over (3.6.2-1build2) ...\n",
            "Selecting previously unselected package libgeos-dev.\n",
            "Preparing to unpack .../17-libgeos-dev_3.7.1-1~bionic0_amd64.deb ...\n",
            "Unpacking libgeos-dev (3.7.1-1~bionic0) ...\n",
            "Preparing to unpack .../18-libgeotiff2_1.4.2-2build1+bionic0_amd64.deb ...\n",
            "Unpacking libgeotiff2:amd64 (1.4.2-2build1+bionic0) over (1.4.2-2build1) ...\n",
            "Selecting previously unselected package libgeotiff-dev:amd64.\n",
            "Preparing to unpack .../19-libgeotiff-dev_1.4.2-2build1+bionic0_amd64.deb ...\n",
            "Unpacking libgeotiff-dev:amd64 (1.4.2-2build1+bionic0) ...\n",
            "Selecting previously unselected package libgif-dev.\n",
            "Preparing to unpack .../20-libgif-dev_5.1.4-2ubuntu0.1_amd64.deb ...\n",
            "Unpacking libgif-dev (5.1.4-2ubuntu0.1) ...\n",
            "Selecting previously unselected package libnetcdf-dev.\n",
            "Preparing to unpack .../21-libnetcdf-dev_1%3a4.6.0-2build1_amd64.deb ...\n",
            "Unpacking libnetcdf-dev (1:4.6.0-2build1) ...\n",
            "Selecting previously unselected package libhdf4-alt-dev.\n",
            "Preparing to unpack .../22-libhdf4-alt-dev_4.2.13-2_amd64.deb ...\n",
            "Unpacking libhdf4-alt-dev (4.2.13-2) ...\n",
            "Selecting previously unselected package libjson-c-dev:amd64.\n",
            "Preparing to unpack .../23-libjson-c-dev_0.12.1-1.3_amd64.deb ...\n",
            "Unpacking libjson-c-dev:amd64 (0.12.1-1.3) ...\n",
            "Selecting previously unselected package libkmlconvenience1:amd64.\n",
            "Preparing to unpack .../24-libkmlconvenience1_1.3.0-5_amd64.deb ...\n",
            "Unpacking libkmlconvenience1:amd64 (1.3.0-5) ...\n",
            "Selecting previously unselected package libkmlregionator1:amd64.\n",
            "Preparing to unpack .../25-libkmlregionator1_1.3.0-5_amd64.deb ...\n",
            "Unpacking libkmlregionator1:amd64 (1.3.0-5) ...\n",
            "Selecting previously unselected package libkmlxsd1:amd64.\n",
            "Preparing to unpack .../26-libkmlxsd1_1.3.0-5_amd64.deb ...\n",
            "Unpacking libkmlxsd1:amd64 (1.3.0-5) ...\n",
            "Selecting previously unselected package libminizip-dev:amd64.\n",
            "Preparing to unpack .../27-libminizip-dev_1.1-8build1_amd64.deb ...\n",
            "Unpacking libminizip-dev:amd64 (1.1-8build1) ...\n",
            "Selecting previously unselected package liburiparser-dev.\n",
            "Preparing to unpack .../28-liburiparser-dev_0.8.4-1_amd64.deb ...\n",
            "Unpacking liburiparser-dev (0.8.4-1) ...\n",
            "Selecting previously unselected package libkml-dev:amd64.\n",
            "Preparing to unpack .../29-libkml-dev_1.3.0-5_amd64.deb ...\n",
            "Unpacking libkml-dev:amd64 (1.3.0-5) ...\n",
            "Selecting previously unselected package libogdi-dev.\n",
            "Preparing to unpack .../30-libogdi-dev_4.1.0+ds-1~bionic0_amd64.deb ...\n",
            "Unpacking libogdi-dev (4.1.0+ds-1~bionic0) ...\n",
            "Selecting previously unselected package libopenjp2-7-dev.\n",
            "Preparing to unpack .../31-libopenjp2-7-dev_2.3.0-2build0.18.04.1_amd64.deb ...\n",
            "Unpacking libopenjp2-7-dev (2.3.0-2build0.18.04.1) ...\n",
            "Selecting previously unselected package libpoppler-dev:amd64.\n",
            "Preparing to unpack .../32-libpoppler-dev_0.62.0-2ubuntu2.10_amd64.deb ...\n",
            "Unpacking libpoppler-dev:amd64 (0.62.0-2ubuntu2.10) ...\n",
            "Selecting previously unselected package libpoppler-private-dev:amd64.\n",
            "Preparing to unpack .../33-libpoppler-private-dev_0.62.0-2ubuntu2.10_amd64.deb ...\n",
            "Unpacking libpoppler-private-dev:amd64 (0.62.0-2ubuntu2.10) ...\n",
            "Selecting previously unselected package libpq-dev.\n",
            "Preparing to unpack .../34-libpq-dev_10.10-0ubuntu0.18.04.1_amd64.deb ...\n",
            "Unpacking libpq-dev (10.10-0ubuntu0.18.04.1) ...\n",
            "Selecting previously unselected package libproj-dev:amd64.\n",
            "Preparing to unpack .../35-libproj-dev_5.2.0-1~bionic0_amd64.deb ...\n",
            "Unpacking libproj-dev:amd64 (5.2.0-1~bionic0) ...\n",
            "Selecting previously unselected package libqhull-r7:amd64.\n",
            "Preparing to unpack .../36-libqhull-r7_2015.2-4_amd64.deb ...\n",
            "Unpacking libqhull-r7:amd64 (2015.2-4) ...\n",
            "Selecting previously unselected package libqhull-dev:amd64.\n",
            "Preparing to unpack .../37-libqhull-dev_2015.2-4_amd64.deb ...\n",
            "Unpacking libqhull-dev:amd64 (2015.2-4) ...\n",
            "Preparing to unpack .../38-libspatialite7_4.3.0a-5build1+bionic1_amd64.deb ...\n",
            "Unpacking libspatialite7:amd64 (4.3.0a-5build1+bionic1) over (4.3.0a-5build1) ...\n",
            "Selecting previously unselected package libsqlite3-dev:amd64.\n",
            "Preparing to unpack .../39-libsqlite3-dev_3.22.0-1ubuntu0.1_amd64.deb ...\n",
            "Unpacking libsqlite3-dev:amd64 (3.22.0-1ubuntu0.1) ...\n",
            "Selecting previously unselected package libspatialite-dev:amd64.\n",
            "Preparing to unpack .../40-libspatialite-dev_4.3.0a-5build1+bionic1_amd64.deb ...\n",
            "Unpacking libspatialite-dev:amd64 (4.3.0a-5build1+bionic1) ...\n",
            "Selecting previously unselected package libwebp-dev:amd64.\n",
            "Preparing to unpack .../41-libwebp-dev_0.6.1-2_amd64.deb ...\n",
            "Unpacking libwebp-dev:amd64 (0.6.1-2) ...\n",
            "Selecting previously unselected package libxerces-c-dev.\n",
            "Preparing to unpack .../42-libxerces-c-dev_3.2.0+debian-2_amd64.deb ...\n",
            "Unpacking libxerces-c-dev (3.2.0+debian-2) ...\n",
            "Selecting previously unselected package libzstd-dev:amd64.\n",
            "Preparing to unpack .../43-libzstd-dev_1.3.3+dfsg-2ubuntu1.1_amd64.deb ...\n",
            "Unpacking libzstd-dev:amd64 (1.3.3+dfsg-2ubuntu1.1) ...\n",
            "Selecting previously unselected package unixodbc-dev:amd64.\n",
            "Preparing to unpack .../44-unixodbc-dev_2.3.4-1.1ubuntu3_amd64.deb ...\n",
            "Unpacking unixodbc-dev:amd64 (2.3.4-1.1ubuntu3) ...\n",
            "Selecting previously unselected package libgdal-dev.\n",
            "Preparing to unpack .../45-libgdal-dev_2.4.2+dfsg-1~bionic0_amd64.deb ...\n",
            "Unpacking libgdal-dev (2.4.2+dfsg-1~bionic0) ...\n",
            "Selecting previously unselected package grass-dev.\n",
            "Preparing to unpack .../46-grass-dev_7.8.0-1~bionic1_amd64.deb ...\n",
            "Unpacking grass-dev (7.8.0-1~bionic1) ...\n",
            "Setting up libproj-dev:amd64 (5.2.0-1~bionic0) ...\n",
            "Setting up libxerces-c-dev (3.2.0+debian-2) ...\n",
            "Setting up unixodbc-dev:amd64 (2.3.4-1.1ubuntu3) ...\n",
            "Setting up libpq-dev (10.10-0ubuntu0.18.04.1) ...\n",
            "Setting up libpoppler-dev:amd64 (0.62.0-2ubuntu2.10) ...\n",
            "Setting up libogdi-dev (4.1.0+ds-1~bionic0) ...\n",
            "Setting up libmysqlclient-dev (5.7.27-0ubuntu0.18.04.1) ...\n",
            "Setting up libsqlite3-dev:amd64 (3.22.0-1ubuntu0.1) ...\n",
            "Setting up libgif-dev (5.1.4-2ubuntu0.1) ...\n",
            "Setting up libepsilon-dev:amd64 (0.9.2+dfsg-2) ...\n",
            "Setting up libopenjp2-7-dev (2.3.0-2build0.18.04.1) ...\n",
            "Setting up libminizip-dev:amd64 (1.1-8build1) ...\n",
            "Setting up libkmlconvenience1:amd64 (1.3.0-5) ...\n",
            "Setting up libwebp-dev:amd64 (0.6.1-2) ...\n",
            "Setting up libkmlxsd1:amd64 (1.3.0-5) ...\n",
            "Setting up libgeos-3.7.1:amd64 (3.7.1-1~bionic0) ...\n",
            "Setting up libblas3:amd64 (3.7.1-4ubuntu1) ...\n",
            "Processing triggers for libc-bin (2.27-3ubuntu1) ...\n",
            "Setting up libdapserver7v5:amd64 (3.19.1-2build1) ...\n",
            "Setting up libkmlregionator1:amd64 (1.3.0-5) ...\n",
            "Setting up libcharls-dev:amd64 (1.1.0+dfsg-2) ...\n",
            "Setting up libfakeroot:amd64 (1.22-2ubuntu1) ...\n",
            "Setting up libzstd-dev:amd64 (1.3.3+dfsg-2ubuntu1.1) ...\n",
            "Setting up libgeotiff2:amd64 (1.4.2-2build1+bionic0) ...\n",
            "Setting up libjson-c-dev:amd64 (0.12.1-1.3) ...\n",
            "Setting up libarpack2-dev:amd64 (3.5.0+real-2) ...\n",
            "Processing triggers for man-db (2.8.3-2ubuntu0.1) ...\n",
            "Setting up liburiparser-dev (0.8.4-1) ...\n",
            "Setting up default-libmysqlclient-dev:amd64 (1.0.4) ...\n",
            "Setting up libfyba-dev:amd64 (4.1.1-3) ...\n",
            "Setting up libnetcdf-dev (1:4.6.0-2build1) ...\n",
            "Setting up libqhull-r7:amd64 (2015.2-4) ...\n",
            "Setting up libfreexl-dev:amd64 (1.0.5-1) ...\n",
            "Setting up libgeotiff-dev:amd64 (1.4.2-2build1+bionic0) ...\n",
            "Setting up libpoppler-private-dev:amd64 (0.62.0-2ubuntu2.10) ...\n",
            "Setting up libdap-dev:amd64 (3.19.1-2build1) ...\n",
            "Setting up libblas-dev:amd64 (3.7.1-4ubuntu1) ...\n",
            "Setting up fakeroot (1.22-2ubuntu1) ...\n",
            "update-alternatives: using /usr/bin/fakeroot-sysv to provide /usr/bin/fakeroot (fakeroot) in auto mode\n",
            "Setting up libqhull-dev:amd64 (2015.2-4) ...\n",
            "Setting up libkml-dev:amd64 (1.3.0-5) ...\n",
            "Setting up libhdf4-alt-dev (4.2.13-2) ...\n",
            "Setting up libgeos-c1v5:amd64 (3.7.1-1~bionic0) ...\n",
            "Setting up libsuperlu-dev:amd64 (5.2.1+dfsg1-3) ...\n",
            "Setting up libspatialite7:amd64 (4.3.0a-5build1+bionic1) ...\n",
            "Setting up libspatialite-dev:amd64 (4.3.0a-5build1+bionic1) ...\n",
            "Setting up libarmadillo-dev (1:8.400.0+dfsg-2) ...\n",
            "Setting up libgeos-dev (3.7.1-1~bionic0) ...\n",
            "Setting up libgdal-dev (2.4.2+dfsg-1~bionic0) ...\n",
            "Setting up grass-dev (7.8.0-1~bionic1) ...\n",
            "Processing triggers for libc-bin (2.27-3ubuntu1) ...\n"
          ]
        }
      ],
      "source": [
        "!apt-get install grass-dev"
      ]
    },
    {
      "cell_type": "markdown",
      "metadata": {
        "colab_type": "text",
        "id": "AH5ubv8T595I"
      },
      "source": [
        "Now you can install GRASS extensions"
      ]
    },
    {
      "cell_type": "code",
      "execution_count": 25,
      "metadata": {
        "colab": {
          "base_uri": "https://localhost:8080/",
          "height": 34
        },
        "colab_type": "code",
        "id": "n1N25a3Q3Khu",
        "outputId": "02878f0d-1a92-4fde-bcca-5051dd2f0183"
      },
      "outputs": [
        {
          "data": {
            "text/plain": [
              "{}"
            ]
          },
          "execution_count": 25,
          "metadata": {
            "tags": []
          },
          "output_type": "execute_result"
        }
      ],
      "source": [
        "gs.parse_command(\"g.extension\", extension=\"r.stream.distance\")\n",
        "gs.parse_command(\"g.extension\", extension=\"r.lake.series\")\n"
      ]
    },
    {
      "cell_type": "markdown",
      "metadata": {
        "colab_type": "text",
        "id": "KJkkJ-vg6kbo"
      },
      "source": [
        "Now we use r.stream.distance without output parameter difference to compute new raster where each cell is the elevation difference between the cell and the the cell on the stream where the cell drains.\n",
        "\n",
        "> Credit: https://grasswiki.osgeo.org/wiki/From_GRASS_GIS_novice_to_power_user_(workshop_at_FOSS4G_Boston_2017)"
      ]
    },
    {
      "cell_type": "code",
      "execution_count": 26,
      "metadata": {
        "colab": {
          "base_uri": "https://localhost:8080/",
          "height": 34
        },
        "colab_type": "code",
        "id": "1STfFTRQ4x77",
        "outputId": "6b9124c1-e4ea-4996-ab3e-7edac455ad81"
      },
      "outputs": [
        {
          "data": {
            "text/plain": [
              "0"
            ]
          },
          "execution_count": 26,
          "metadata": {
            "tags": []
          },
          "output_type": "execute_result"
        }
      ],
      "source": [
        "gs.run_command('r.stream.distance', stream_rast=\"streams\", direction=\"drainage\", elevation=\"usgs_ned1\", method=\"downstream\", difference=\"above_stream\", overwrite=True)\n"
      ]
    },
    {
      "cell_type": "markdown",
      "metadata": {
        "colab_type": "text",
        "id": "4Wls6uOO6tcL"
      },
      "source": [
        "Now instead of elevation raster we use the HAND raster to simulate 5-meter inundation and as the seed we specify the entire stream.\n",
        "\n",
        "> Credit: https://grasswiki.osgeo.org/wiki/From_GRASS_GIS_novice_to_power_user_(workshop_at_FOSS4G_Boston_2017)"
      ]
    },
    {
      "cell_type": "code",
      "execution_count": 27,
      "metadata": {
        "colab": {
          "base_uri": "https://localhost:8080/",
          "height": 34
        },
        "colab_type": "code",
        "id": "6fG3U9an6Rkt",
        "outputId": "b1b4e211-7a40-4315-f0d8-1a7e801a8978"
      },
      "outputs": [
        {
          "data": {
            "text/plain": [
              "0"
            ]
          },
          "execution_count": 27,
          "metadata": {
            "tags": []
          },
          "output_type": "execute_result"
        }
      ],
      "source": [
        "gs.run_command(\"r.lake\", elevation=\"above_stream\", water_level=5, lake=\"flood\", seed=\"streams\")\n"
      ]
    },
    {
      "cell_type": "code",
      "execution_count": 28,
      "metadata": {
        "colab": {
          "base_uri": "https://localhost:8080/",
          "height": 497
        },
        "colab_type": "code",
        "id": "tWDA4UYY60T2",
        "outputId": "ab386156-68e3-4309-9dd0-463fb17987fa"
      },
      "outputs": [
        {
          "data": {
            "image/png": "[encoded data removed]",
            "text/plain": [
              "<IPython.core.display.Image object>"
            ]
          },
          "execution_count": 28,
          "metadata": {
            "tags": []
          },
          "output_type": "execute_result"
        }
      ],
      "source": [
        "gs.run_command('d.erase')\n",
        "# gs.run_command('d.rast', map=\"usgs_ned\")\n",
        "# gs.run_command('d.rast', map=\"streams\")\n",
        "gs.run_command(\"d.rast\", map=\"flood\")\n",
        "gs.run_command('d.legend', raster=\"flood\")\n",
        "Image(filename=\"map.png\")"
      ]
    },
    {
      "cell_type": "code",
      "execution_count": 29,
      "metadata": {
        "colab": {
          "base_uri": "https://localhost:8080/",
          "height": 497
        },
        "colab_type": "code",
        "id": "ZYrgBj0u80M3",
        "outputId": "3998ad0e-1135-4043-ff4f-cd5d64a3c998"
      },
      "outputs": [
        {
          "data": {
            "image/png": "[encoded data removed]",
            "text/plain": [
              "<IPython.core.display.Image object>"
            ]
          },
          "execution_count": 29,
          "metadata": {
            "tags": []
          },
          "output_type": "execute_result"
        }
      ],
      "source": [
        "gs.run_command('d.erase')\n",
        "# gs.run_command('d.rast', map=\"usgs_ned\")\n",
        "# gs.run_command('d.rast', map=\"streams\")\n",
        "gs.run_command(\"d.vect\", map=\"streams\")\n",
        "gs.run_command('d.legend', raster=\"streams\")\n",
        "Image(filename=\"map.png\")"
      ]
    },
    {
      "cell_type": "markdown",
      "metadata": {
        "colab_type": "text",
        "id": "lJ8YcLt5TZde"
      },
      "source": [
        "### Export flood results from GRASS\n"
      ]
    },
    {
      "cell_type": "markdown",
      "metadata": {
        "colab_type": "text",
        "id": "txmdacTiUjGS"
      },
      "source": []
    },
    {
      "cell_type": "code",
      "execution_count": 30,
      "metadata": {
        "colab": {
          "base_uri": "https://localhost:8080/",
          "height": 34
        },
        "colab_type": "code",
        "id": "XnxOuAfNTY1M",
        "outputId": "982bb74f-d5e9-44e6-850a-010c851374f4"
      },
      "outputs": [
        {
          "data": {
            "text/plain": [
              "0"
            ]
          },
          "execution_count": 30,
          "metadata": {
            "tags": []
          },
          "output_type": "execute_result"
        }
      ],
      "source": [
        "gs.run_command(\"r.out.gdal\", input=\"flood\", output=\"flood.tif\", format=\"GTiff\" )\n"
      ]
    },
    {
      "cell_type": "code",
      "execution_count": 31,
      "metadata": {
        "colab": {
          "base_uri": "https://localhost:8080/",
          "height": 510
        },
        "colab_type": "code",
        "id": "NCrdGBlaF0EE",
        "outputId": "d4e3116e-100d-4e90-e284-52d0cfbf33a1"
      },
      "outputs": [
        {
          "name": "stdout",
          "output_type": "stream",
          "text": [
            " +----------------------------------------------------------------------------+\n",
            " | Map:      flood                          Date: Wed Oct 30 14:19:59 2019    |\n",
            " | Mapset:   PERMANENT                      Login of Creator: root            |\n",
            " | Location: google_earth_engine_3857                                         |\n",
            " | DataBase: /root/grassdata                                                  |\n",
            " | Title:                                                                     |\n",
            " | Timestamp: none                                                            |\n",
            " |----------------------------------------------------------------------------|\n",
            " |                                                                            |\n",
            " |   Type of Map:  raster               Number of Categories: 0               |\n",
            " |   Data Type:    FCELL                                                      |\n",
            " |   Rows:         2920                                                       |\n",
            " |   Columns:      2972                                                       |\n",
            " |   Total Cells:  8678240                                                    |\n",
            " |        Projection: WGS 84 / Pseudo-Mercator                                |\n",
            " |            N: 4579437.58495257    S: 4480997.01471053   Res: 33.71252406   |\n",
            " |            E: -13558710.00000027    W: -13658910.00000411   Res: 33.714670 |\n",
            " |   Range of data:    min = 5.722046e-06  max = 14.90232                     |\n",
            " |                                                                            |\n",
            " |   Data Description:                                                        |\n",
            " |    generated by r.lake                                                     |\n",
            " |                                                                            |\n",
            " |   Comments:                                                                |\n",
            " |    r.lake elevation=\"above_stream\" water_level=5 lake=\"flood\" seed=\"str\\   |\n",
            " |    eams\"                                                                   |\n",
            " |                                                                            |\n",
            " +----------------------------------------------------------------------------+\n",
            "\n",
            "\n"
          ]
        }
      ],
      "source": [
        "print(gs.read_command(\"r.info\", map=\"flood\"))\n",
        "# gs.run_command(\"r.out.gdal\", help=True)"
      ]
    },
    {
      "cell_type": "markdown",
      "metadata": {
        "colab_type": "text",
        "id": "QQTtlLGeS3Fa"
      },
      "source": [
        "## Upload the classified image to Earth Engine\n",
        "\n",
        "Upload the image to Earth Engine directly from the Cloud Storage bucket with the [`earthengine` command](https://developers.google.com/earth-engine/command_line#upload).  Provide both the image TFRecord file and the JSON file as arguments to `earthengine upload`."
      ]
    },
    {
      "cell_type": "code",
      "execution_count": 32,
      "metadata": {
        "colab": {
          "base_uri": "https://localhost:8080/",
          "height": 68
        },
        "colab_type": "code",
        "id": "6HG29rdGXku1",
        "outputId": "fed8f8ed-caa9-480c-dd7d-c8b17eb7321d"
      },
      "outputs": [
        {
          "name": "stdout",
          "output_type": "stream",
          "text": [
            "Copying file://flood.tif [Content-Type=image/tiff]...\n",
            "-\n",
            "Operation completed over 1 objects/33.1 MiB.                                     \n"
          ]
        }
      ],
      "source": [
        "!gsutil cp flood.tif gs://gee_default/\n",
        "\n",
        "# !GCS_BUCKET_NAME=\"gee_default\"\n",
        "# !gsutil cp gs://gee_default/grass_elev_demo_.tif /content/grass_elev_demo.tif"
      ]
    },
    {
      "cell_type": "code",
      "execution_count": 33,
      "metadata": {
        "colab": {
          "base_uri": "https://localhost:8080/",
          "height": 782
        },
        "colab_type": "code",
        "id": "H4e3g9XGR9uU",
        "outputId": "30432e90-2b6e-4ba9-8592-2177c30a70f9"
      },
      "outputs": [
        {
          "name": "stdout",
          "output_type": "stream",
          "text": [
            "Driver: GTiff/GeoTIFF\n",
            "Files: flood.tif\n",
            "Size is 2972, 2920\n",
            "Coordinate System is:\n",
            "PROJCS[\"WGS 84 / Pseudo-Mercator\",\n",
            "    GEOGCS[\"WGS 84\",\n",
            "        DATUM[\"WGS_1984\",\n",
            "            SPHEROID[\"WGS 84\",6378137,298.257223563,\n",
            "                AUTHORITY[\"EPSG\",\"7030\"]],\n",
            "            AUTHORITY[\"EPSG\",\"6326\"]],\n",
            "        PRIMEM[\"Greenwich\",0,\n",
            "            AUTHORITY[\"EPSG\",\"8901\"]],\n",
            "        UNIT[\"degree\",0.0174532925199433,\n",
            "            AUTHORITY[\"EPSG\",\"9122\"]],\n",
            "        AUTHORITY[\"EPSG\",\"4326\"]],\n",
            "    PROJECTION[\"Mercator_1SP\"],\n",
            "    PARAMETER[\"central_meridian\",0],\n",
            "    PARAMETER[\"scale_factor\",1],\n",
            "    PARAMETER[\"false_easting\",0],\n",
            "    PARAMETER[\"false_northing\",0],\n",
            "    UNIT[\"metre\",1,\n",
            "        AUTHORITY[\"EPSG\",\"9001\"]],\n",
            "    AXIS[\"X\",EAST],\n",
            "    AXIS[\"Y\",NORTH],\n",
            "    EXTENSION[\"PROJ4\",\"+proj=merc +a=6378137 +b=6378137 +lat_ts=0.0 +lon_0=0.0 +x_0=0.0 +y_0=0 +k=1.0 +units=m +nadgrids=@null +wktext +no_defs\"],\n",
            "    AUTHORITY[\"EPSG\",\"3857\"]]\n",
            "Origin = (-13658910.000004110857844,4579437.584952569566667)\n",
            "Pixel Size = (33.714670257012372,-33.712524055493105)\n",
            "Metadata:\n",
            "  AREA_OR_POINT=Area\n",
            "  TIFFTAG_SOFTWARE=GRASS GIS 7.8.0 with GDAL 2.4.2\n",
            "Image Structure Metadata:\n",
            "  INTERLEAVE=BAND\n",
            "Corner Coordinates:\n",
            "Upper Left  (-13658910.000, 4579437.585) (122d42' 0.27\"W, 38d 0' 0.30\"N)\n",
            "Lower Left  (-13658910.000, 4480997.015) (122d42' 0.27\"W, 37d17'59.77\"N)\n",
            "Upper Right (-13558710.000, 4579437.585) (121d47'59.87\"W, 38d 0' 0.30\"N)\n",
            "Lower Right (-13558710.000, 4480997.015) (121d47'59.87\"W, 37d17'59.77\"N)\n",
            "Center      (-13608810.000, 4530217.300) (122d15' 0.07\"W, 37d39' 3.01\"N)\n",
            "Band 1 Block=2972x1 Type=Float32, ColorInterp=Gray\n",
            "  Description = flood\n",
            "  NoData Value=nan\n",
            "  Metadata:\n",
            "    COLOR_TABLE_RULES_COUNT=1\n",
            "    COLOR_TABLE_RULE_RGB_0=0.000000e+00 1.490232e+01 0 240 255 0 50 170\n"
          ]
        }
      ],
      "source": [
        "!gdalinfo flood.tif"
      ]
    },
    {
      "cell_type": "code",
      "execution_count": 34,
      "metadata": {
        "colab": {
          "base_uri": "https://localhost:8080/",
          "height": 493
        },
        "colab_type": "code",
        "id": "VS5Av7YZSmxz",
        "outputId": "a5d39283-508e-448d-af6f-8f0533ecc5ac"
      },
      "outputs": [
        {
          "name": "stdout",
          "output_type": "stream",
          "text": [
            "Driver: GTiff/GeoTIFF\n",
            "Files: grass_elev_demo.tif\n",
            "Size is 3340, 2598\n",
            "Coordinate System is:\n",
            "GEOGCS[\"NAD83\",\n",
            "    DATUM[\"North_American_Datum_1983\",\n",
            "        SPHEROID[\"GRS 1980\",6378137,298.2572221010042,\n",
            "            AUTHORITY[\"EPSG\",\"7019\"]],\n",
            "        TOWGS84[0,0,0,0,0,0,0],\n",
            "        AUTHORITY[\"EPSG\",\"6269\"]],\n",
            "    PRIMEM[\"Greenwich\",0],\n",
            "    UNIT[\"degree\",0.0174532925199433],\n",
            "    AUTHORITY[\"EPSG\",\"4269\"]]\n",
            "Origin = (-122.700076174129748,38.000083991181938)\n",
            "Pixel Size = (0.000269494585236,-0.000269494585236)\n",
            "Metadata:\n",
            "  AREA_OR_POINT=Area\n",
            "Image Structure Metadata:\n",
            "  COMPRESSION=LZW\n",
            "  INTERLEAVE=BAND\n",
            "Corner Coordinates:\n",
            "Upper Left  (-122.7000762,  38.0000840) (122d42' 0.27\"W, 38d 0' 0.30\"N)\n",
            "Lower Left  (-122.7000762,  37.2999371) (122d42' 0.27\"W, 37d17'59.77\"N)\n",
            "Upper Right (-121.7999643,  38.0000840) (121d47'59.87\"W, 38d 0' 0.30\"N)\n",
            "Lower Right (-121.7999643,  37.2999371) (121d47'59.87\"W, 37d17'59.77\"N)\n",
            "Center      (-122.2500202,  37.6500105) (122d15' 0.07\"W, 37d39' 0.04\"N)\n",
            "Band 1 Block=256x256 Type=Float32, ColorInterp=Gray\n",
            "  Description = elevation\n"
          ]
        }
      ],
      "source": [
        "!gdalinfo grass_elev_demo.tif"
      ]
    },
    {
      "cell_type": "code",
      "execution_count": 35,
      "metadata": {
        "colab": {
          "base_uri": "https://localhost:8080/",
          "height": 34
        },
        "colab_type": "code",
        "id": "gZPt890bSLyy",
        "outputId": "942560aa-8cf3-412a-b2c6-65ccd8ba641e"
      },
      "outputs": [
        {
          "name": "stdout",
          "output_type": "stream",
          "text": [
            "Writing to users/ctwhite/grassdata\n"
          ]
        }
      ],
      "source": [
        "# REPLACE WITH YOUR USERNAME:\n",
        "USER_NAME = 'ctwhite'\n",
        "outputAssetID = 'users/' + USER_NAME + '/grassdata'\n",
        "print('Writing to ' + outputAssetID)"
      ]
    },
    {
      "cell_type": "code",
      "execution_count": 36,
      "metadata": {
        "colab": {
          "base_uri": "https://localhost:8080/",
          "height": 1000
        },
        "colab_type": "code",
        "id": "3UYzSdcTS8cp",
        "outputId": "bb8d985d-f9be-415e-de86-ce02775e2320"
      },
      "outputs": [
        {
          "name": "stdout",
          "output_type": "stream",
          "text": [
            "Running command using Cloud API.  Set --no-use_cloud_api to go back to using the API\n",
            "\n",
            "W1030 14:20:10.318672 140051437295488 __init__.py:44] file_cache is unavailable when using oauth2client >= 4.0.0 or google-auth\n",
            "Traceback (most recent call last):\n",
            "  File \"/usr/local/lib/python3.6/dist-packages/googleapiclient/discovery_cache/__init__.py\", line 36, in autodetect\n",
            "    from google.appengine.api import memcache\n",
            "ModuleNotFoundError: No module named 'google.appengine'\n",
            "\n",
            "During handling of the above exception, another exception occurred:\n",
            "\n",
            "Traceback (most recent call last):\n",
            "  File \"/usr/local/lib/python3.6/dist-packages/googleapiclient/discovery_cache/file_cache.py\", line 33, in <module>\n",
            "    from oauth2client.contrib.locked_file import LockedFile\n",
            "ModuleNotFoundError: No module named 'oauth2client.contrib.locked_file'\n",
            "\n",
            "During handling of the above exception, another exception occurred:\n",
            "\n",
            "Traceback (most recent call last):\n",
            "  File \"/usr/local/lib/python3.6/dist-packages/googleapiclient/discovery_cache/file_cache.py\", line 37, in <module>\n",
            "    from oauth2client.locked_file import LockedFile\n",
            "ModuleNotFoundError: No module named 'oauth2client.locked_file'\n",
            "\n",
            "During handling of the above exception, another exception occurred:\n",
            "\n",
            "Traceback (most recent call last):\n",
            "  File \"/usr/local/lib/python3.6/dist-packages/googleapiclient/discovery_cache/__init__.py\", line 41, in autodetect\n",
            "    from . import file_cache\n",
            "  File \"/usr/local/lib/python3.6/dist-packages/googleapiclient/discovery_cache/file_cache.py\", line 41, in <module>\n",
            "    'file_cache is unavailable when using oauth2client >= 4.0.0 or google-auth')\n",
            "ImportError: file_cache is unavailable when using oauth2client >= 4.0.0 or google-auth\n",
            "I1030 14:20:10.319637 140051437295488 discovery.py:271] URL being requested: GET https://earthengine.googleapis.com/$discovery/rest?version=v1alpha&prettyPrint=false\n",
            "W1030 14:20:11.262630 140051437295488 __init__.py:44] file_cache is unavailable when using oauth2client >= 4.0.0 or google-auth\n",
            "Traceback (most recent call last):\n",
            "  File \"/usr/local/lib/python3.6/dist-packages/googleapiclient/discovery_cache/__init__.py\", line 36, in autodetect\n",
            "    from google.appengine.api import memcache\n",
            "ModuleNotFoundError: No module named 'google.appengine'\n",
            "\n",
            "During handling of the above exception, another exception occurred:\n",
            "\n",
            "Traceback (most recent call last):\n",
            "  File \"/usr/local/lib/python3.6/dist-packages/googleapiclient/discovery_cache/file_cache.py\", line 33, in <module>\n",
            "    from oauth2client.contrib.locked_file import LockedFile\n",
            "ModuleNotFoundError: No module named 'oauth2client.contrib.locked_file'\n",
            "\n",
            "During handling of the above exception, another exception occurred:\n",
            "\n",
            "Traceback (most recent call last):\n",
            "  File \"/usr/local/lib/python3.6/dist-packages/googleapiclient/discovery_cache/file_cache.py\", line 37, in <module>\n",
            "    from oauth2client.locked_file import LockedFile\n",
            "ModuleNotFoundError: No module named 'oauth2client.locked_file'\n",
            "\n",
            "During handling of the above exception, another exception occurred:\n",
            "\n",
            "Traceback (most recent call last):\n",
            "  File \"/usr/local/lib/python3.6/dist-packages/googleapiclient/discovery_cache/__init__.py\", line 41, in autodetect\n",
            "    from . import file_cache\n",
            "  File \"/usr/local/lib/python3.6/dist-packages/googleapiclient/discovery_cache/file_cache.py\", line 41, in <module>\n",
            "    'file_cache is unavailable when using oauth2client >= 4.0.0 or google-auth')\n",
            "ImportError: file_cache is unavailable when using oauth2client >= 4.0.0 or google-auth\n",
            "I1030 14:20:11.263085 140051437295488 discovery.py:271] URL being requested: GET https://earthengine.googleapis.com/$discovery/rest?version=v1alpha&prettyPrint=false\n",
            "I1030 14:20:12.067435 140051437295488 discovery.py:867] URL being requested: GET https://earthengine.googleapis.com/v1alpha/projects/earthengine-legacy/algorithms?prettyPrint=false&alt=json\n",
            "I1030 14:20:12.715617 140051437295488 discovery.py:867] URL being requested: POST https://earthengine.googleapis.com/v1alpha/projects/earthengine-legacy/image:import?alt=json\n",
            "Started upload task with ID: HCG2GHS2WM3TBACQGU2XMRXW\n"
          ]
        }
      ],
      "source": [
        "# Start the upload.\n",
        "!earthengine upload image -f --crs=3857 --nodata_value=255 --asset_id=users/ctwhite/grassdata/flood gs://gee_default/flood.tif\n"
      ]
    },
    {
      "cell_type": "code",
      "execution_count": null,
      "metadata": {
        "colab": {},
        "colab_type": "code",
        "id": "5DK4bl_rgap7"
      },
      "outputs": [],
      "source": []
    },
    {
      "cell_type": "markdown",
      "metadata": {
        "colab_type": "text",
        "id": "X6BZCqBsTIPp"
      },
      "source": [
        "### Create webmap using folium to display data frome Google earth Engine"
      ]
    },
    {
      "cell_type": "code",
      "execution_count": 37,
      "metadata": {
        "colab": {
          "base_uri": "https://localhost:8080/",
          "height": 889
        },
        "colab_type": "code",
        "id": "H8bT-JwjBi6m",
        "outputId": "f308e8ff-110c-4004-8e89-9a14e8720f72"
      },
      "outputs": [
        {
          "data": {
            "text/html": [
              "<div style=\"width:100%;\"><div style=\"position:relative;width:100%;height:0;padding-bottom:60%;\"><iframe src=\"data:text/html;charset=utf-8;base64,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\" style=\"position:absolute;width:100%;height:100%;left:0;top:0;border:none !important;\" allowfullscreen webkitallowfullscreen mozallowfullscreen></iframe></div></div>"
            ],
            "text/plain": [
              "<folium.folium.Map at 0x7f3bdca86240>"
            ]
          },
          "metadata": {
            "tags": []
          },
          "output_type": "display_data"
        }
      ],
      "source": [
        "# Import libraries.\n",
        "import ee\n",
        "import folium\n",
        "\n",
        "# Initialize the Earth Engine library.\n",
        "ee.Initialize()\n",
        "\n",
        "# Define a method for displaying Earth Engine image tiles to folium map.\n",
        "def add_ee_layer(self, eeImageObject, visParams, name):\n",
        "  mapID = ee.Image(eeImageObject).getMapId(visParams)\n",
        "  folium.raster_layers.TileLayer(\n",
        "    tiles = \"https://earthengine.googleapis.com/map/\"+mapID['mapid']+\n",
        "      \"/{z}/{x}/{y}?token=\"+mapID['token'],\n",
        "    attr = \"Map Data © Google Earth Engine\",\n",
        "    name = name,\n",
        "    overlay = True,\n",
        "    control = True\n",
        "  ).add_to(self)\n",
        "\n",
        "# Add EE drawing method to folium.\n",
        "folium.Map.add_ee_layer = add_ee_layer\n",
        "\n",
        "# Fetch an elevation model.\n",
        "dem = ee.Image('users/ctwhite/grassdata/flood')\n",
        "\n",
        "# Set visualization parameters.\n",
        "visParams = {\n",
        "    'min':0,\n",
        "    'max':15,\n",
        "    'opacity': 0.5,\n",
        "    'palette':['032F64','7AD6F4','45BDEE','28A7EA', '006CBB', '034698','ffffff']\n",
        "    }\n",
        "\n",
        "# Create a folium map object.\n",
        "myMap = folium.Map(location=[38., -122.5], zoom_start=9, height=500)\n",
        "\n",
        "# Add the elevation model to the map object.\n",
        "myMap.add_ee_layer(dem, visParams, 'Flood')\n",
        "\n",
        "# Add a layer control panel to the map.\n",
        "myMap.add_child(folium.LayerControl())\n",
        "\n",
        "# Display the map.\n",
        "display(myMap)"
      ]
    }
  ],
  "metadata": {
    "colab": {
      "collapsed_sections": [],
      "include_colab_link": true,
      "name": "GoogleEarthEngineGrassGIS.ipynb",
      "provenance": []
    },
    "interpreter": {
      "hash": "6110a95b4cd903d4faa23edc57b6d0400918e9bc2809346c29ca165652834811"
    },
    "kernelspec": {
      "display_name": "Python 3.9.9 64-bit",
      "language": "python",
      "name": "python3"
    },
    "language_info": {
      "codemirror_mode": {
        "name": "ipython",
        "version": 3
      },
      "file_extension": ".py",
      "mimetype": "text/x-python",
      "name": "python",
      "nbconvert_exporter": "python",
      "pygments_lexer": "ipython3",
      "version": "3.9.9"
    }
  },
  "nbformat": 4,
  "nbformat_minor": 0
}
